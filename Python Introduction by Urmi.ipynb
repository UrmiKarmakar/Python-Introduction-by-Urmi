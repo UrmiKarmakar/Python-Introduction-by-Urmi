{
 "cells": [
  {
   "cell_type": "markdown",
   "id": "0087231c-39cd-443a-807d-d459c84fedc3",
   "metadata": {},
   "source": [
    "# What is Python?\n",
    "### Python is a popular programming language. It was created by Guido van Rossum, and released in 1991.\n"
   ]
  },
  {
   "cell_type": "markdown",
   "id": "c8f24f47-6112-4f2e-bee5-94825b2ff080",
   "metadata": {},
   "source": [
    "# What can Python do?\n",
    "- Python can be used on a server to create web applications.\n",
    "- Python can be used alongside software to create workflows.\n",
    "- Python can connect to database systems. It can also read and modify files.\n",
    "- Python can be used to handle big data and perform complex mathematics.\n",
    "- Python can be used for rapid prototyping, or for production-ready software development."
   ]
  },
  {
   "cell_type": "markdown",
   "id": "8b2a0bc1-1b5a-4fd6-b57f-9d6a2c7a92e5",
   "metadata": {},
   "source": [
    "# Why Python?\n",
    "- Python works on different platforms (Windows, Mac, Linux, Raspberry Pi, etc).\n",
    "- Python has a simple syntax similar to the English language.\n",
    "- Python has syntax that allows developers to write programs with fewer lines than some other programming languages.\n",
    "- Python runs on an interpreter system, meaning that code can be executed as soon as it is written. This means that prototyping can be very quick.\n",
    "- Python can be treated in a procedural way, an object-oriented way or a functional way."
   ]
  },
  {
   "cell_type": "markdown",
   "id": "62c8b2a5-ef81-4022-92ce-503442b31635",
   "metadata": {},
   "source": [
    "# Start with Python\n",
    "### Print a statement"
   ]
  },
  {
   "cell_type": "code",
   "execution_count": 3,
   "id": "a7a368fd-3e42-44f2-ada8-0a47c2bf9464",
   "metadata": {},
   "outputs": [
    {
     "name": "stdout",
     "output_type": "stream",
     "text": [
      "Hello, World\n"
     ]
    }
   ],
   "source": [
    "print(\"Hello, World\")"
   ]
  },
  {
   "cell_type": "code",
   "execution_count": 4,
   "id": "3cd23e2b-46e1-4a66-92a0-0caafb9a53aa",
   "metadata": {},
   "outputs": [
    {
     "name": "stdout",
     "output_type": "stream",
     "text": [
      "I forgot to add this code\n"
     ]
    }
   ],
   "source": [
    "print(\"I forgot to add this code\")"
   ]
  },
  {
   "cell_type": "code",
   "execution_count": 5,
   "id": "dd30b251-fb6e-4d08-bd45-8decef32461d",
   "metadata": {},
   "outputs": [
    {
     "name": "stdout",
     "output_type": "stream",
     "text": [
      "Welcome to the introductory class of Python Programming.\n"
     ]
    }
   ],
   "source": [
    "print(\"Welcome to the introductory class of Python Programming.\")"
   ]
  },
  {
   "cell_type": "code",
   "execution_count": 6,
   "id": "4ea25655-84e5-43b6-9437-c9e1fc5d1262",
   "metadata": {},
   "outputs": [
    {
     "name": "stdout",
     "output_type": "stream",
     "text": [
      "My name is Urmi Karmakar\n"
     ]
    }
   ],
   "source": [
    "print(\"My name is Urmi Karmakar\")"
   ]
  },
  {
   "cell_type": "markdown",
   "id": "3394bb44-992c-493a-9ab9-1dde167e18de",
   "metadata": {},
   "source": [
    "# Let's do some arithmetic operation\n",
    "### Addition"
   ]
  },
  {
   "cell_type": "code",
   "execution_count": 8,
   "id": "d5116374-a27c-4bc8-977c-bbec6f6158a6",
   "metadata": {},
   "outputs": [
    {
     "data": {
      "text/plain": [
       "12"
      ]
     },
     "execution_count": 8,
     "metadata": {},
     "output_type": "execute_result"
    }
   ],
   "source": [
    "10+2"
   ]
  },
  {
   "cell_type": "code",
   "execution_count": 9,
   "id": "2f339279-d0de-4e83-a0c3-552ea937a646",
   "metadata": {},
   "outputs": [
    {
     "data": {
      "text/plain": [
       "27"
      ]
     },
     "execution_count": 9,
     "metadata": {},
     "output_type": "execute_result"
    }
   ],
   "source": [
    "15+12"
   ]
  },
  {
   "cell_type": "code",
   "execution_count": 10,
   "id": "6708ea72-5dfb-445f-8b4d-a96c4673989c",
   "metadata": {},
   "outputs": [
    {
     "data": {
      "text/plain": [
       "550"
      ]
     },
     "execution_count": 10,
     "metadata": {},
     "output_type": "execute_result"
    }
   ],
   "source": [
    "100+450"
   ]
  },
  {
   "cell_type": "markdown",
   "id": "0099eea6-4df4-42f1-bf60-e55ab9fe642c",
   "metadata": {},
   "source": [
    "### Subtraction"
   ]
  },
  {
   "cell_type": "code",
   "execution_count": 11,
   "id": "cc8e0799-b18d-4c93-aadf-b4fe5b87cdd4",
   "metadata": {},
   "outputs": [
    {
     "data": {
      "text/plain": [
       "20"
      ]
     },
     "execution_count": 11,
     "metadata": {},
     "output_type": "execute_result"
    }
   ],
   "source": [
    "50-30"
   ]
  },
  {
   "cell_type": "code",
   "execution_count": 16,
   "id": "1dc6c7ae-1a52-42ec-a1f5-6e5595db694c",
   "metadata": {},
   "outputs": [
    {
     "data": {
      "text/plain": [
       "14"
      ]
     },
     "execution_count": 16,
     "metadata": {},
     "output_type": "execute_result"
    }
   ],
   "source": [
    "30-16"
   ]
  },
  {
   "cell_type": "code",
   "execution_count": 12,
   "id": "ecb4515c-4a1d-4a5c-9742-83482ac538e2",
   "metadata": {},
   "outputs": [
    {
     "data": {
      "text/plain": [
       "20"
      ]
     },
     "execution_count": 12,
     "metadata": {},
     "output_type": "execute_result"
    }
   ],
   "source": [
    "60-40"
   ]
  },
  {
   "cell_type": "markdown",
   "id": "a20ea54a-a195-4719-851c-565900a1672c",
   "metadata": {},
   "source": [
    "### Multiplication"
   ]
  },
  {
   "cell_type": "code",
   "execution_count": 15,
   "id": "6e448796-b077-4c16-bcaa-7559d5f23996",
   "metadata": {},
   "outputs": [
    {
     "data": {
      "text/plain": [
       "20"
      ]
     },
     "execution_count": 15,
     "metadata": {},
     "output_type": "execute_result"
    }
   ],
   "source": [
    "5*4"
   ]
  },
  {
   "cell_type": "code",
   "execution_count": 16,
   "id": "1cc1c77f-1133-463a-bcc4-b789156316da",
   "metadata": {},
   "outputs": [
    {
     "data": {
      "text/plain": [
       "300"
      ]
     },
     "execution_count": 16,
     "metadata": {},
     "output_type": "execute_result"
    }
   ],
   "source": [
    "15*20"
   ]
  },
  {
   "cell_type": "code",
   "execution_count": 17,
   "id": "ddcabf36-e51e-4e8e-954a-028976063ff5",
   "metadata": {},
   "outputs": [
    {
     "data": {
      "text/plain": [
       "36"
      ]
     },
     "execution_count": 17,
     "metadata": {},
     "output_type": "execute_result"
    }
   ],
   "source": [
    "12*3"
   ]
  },
  {
   "cell_type": "markdown",
   "id": "331c9ec1-b429-4903-9ced-137e8bac5b6d",
   "metadata": {},
   "source": [
    "### Division"
   ]
  },
  {
   "cell_type": "code",
   "execution_count": 19,
   "id": "e910bbeb-b00e-4ea1-9f0e-96dc84dab67d",
   "metadata": {},
   "outputs": [
    {
     "data": {
      "text/plain": [
       "5.0"
      ]
     },
     "execution_count": 19,
     "metadata": {},
     "output_type": "execute_result"
    }
   ],
   "source": [
    "10/2"
   ]
  },
  {
   "cell_type": "code",
   "execution_count": 20,
   "id": "c749c186-87cf-4a4b-aabc-591575a61a04",
   "metadata": {},
   "outputs": [
    {
     "data": {
      "text/plain": [
       "5.5"
      ]
     },
     "execution_count": 20,
     "metadata": {},
     "output_type": "execute_result"
    }
   ],
   "source": [
    "11/2"
   ]
  },
  {
   "cell_type": "code",
   "execution_count": 18,
   "id": "96bf670a-b5d4-4a4f-b0fd-222747fd10ac",
   "metadata": {},
   "outputs": [
    {
     "data": {
      "text/plain": [
       "6.6"
      ]
     },
     "execution_count": 18,
     "metadata": {},
     "output_type": "execute_result"
    }
   ],
   "source": [
    "33/5"
   ]
  },
  {
   "cell_type": "markdown",
   "id": "54b52d95-2bbc-48aa-a939-3f1e9919e900",
   "metadata": {},
   "source": [
    "### Floor division"
   ]
  },
  {
   "cell_type": "code",
   "execution_count": 21,
   "id": "615dbfc5-6681-4830-9792-dae2c0928757",
   "metadata": {},
   "outputs": [
    {
     "data": {
      "text/plain": [
       "5"
      ]
     },
     "execution_count": 21,
     "metadata": {},
     "output_type": "execute_result"
    }
   ],
   "source": [
    "11//2"
   ]
  },
  {
   "cell_type": "code",
   "execution_count": 19,
   "id": "4c8ae47b-03d2-48ce-b854-cda344f2fc47",
   "metadata": {},
   "outputs": [
    {
     "data": {
      "text/plain": [
       "33"
      ]
     },
     "execution_count": 19,
     "metadata": {},
     "output_type": "execute_result"
    }
   ],
   "source": [
    "100//3"
   ]
  },
  {
   "cell_type": "code",
   "execution_count": 21,
   "id": "aa3d9c95-7216-4729-9268-789d1baad59a",
   "metadata": {},
   "outputs": [
    {
     "data": {
      "text/plain": [
       "14"
      ]
     },
     "execution_count": 21,
     "metadata": {},
     "output_type": "execute_result"
    }
   ],
   "source": [
    "100//7"
   ]
  },
  {
   "cell_type": "markdown",
   "id": "2628c958-89fa-4f3e-b861-93b7818593b9",
   "metadata": {},
   "source": [
    "### Exponentiation\t"
   ]
  },
  {
   "cell_type": "code",
   "execution_count": 24,
   "id": "a4ddecaa-49ec-4f8d-a58b-a12fc416f5e9",
   "metadata": {},
   "outputs": [
    {
     "data": {
      "text/plain": [
       "4"
      ]
     },
     "execution_count": 24,
     "metadata": {},
     "output_type": "execute_result"
    }
   ],
   "source": [
    "2**2"
   ]
  },
  {
   "cell_type": "code",
   "execution_count": 25,
   "id": "c1b0931f-4517-4abf-b82d-117cb23fdd96",
   "metadata": {},
   "outputs": [
    {
     "data": {
      "text/plain": [
       "25"
      ]
     },
     "execution_count": 25,
     "metadata": {},
     "output_type": "execute_result"
    }
   ],
   "source": [
    "5**2"
   ]
  },
  {
   "cell_type": "code",
   "execution_count": 22,
   "id": "25d5d17c-c94d-433b-9ba9-a4acf2a29af3",
   "metadata": {},
   "outputs": [
    {
     "data": {
      "text/plain": [
       "27"
      ]
     },
     "execution_count": 22,
     "metadata": {},
     "output_type": "execute_result"
    }
   ],
   "source": [
    "3**3"
   ]
  },
  {
   "cell_type": "markdown",
   "id": "47dae4bc-0b85-4641-a073-51aa534053ff",
   "metadata": {},
   "source": [
    "### Modulus"
   ]
  },
  {
   "cell_type": "code",
   "execution_count": 26,
   "id": "d0804160-77e2-44e4-b1d7-08f8b4e545f6",
   "metadata": {},
   "outputs": [
    {
     "data": {
      "text/plain": [
       "1"
      ]
     },
     "execution_count": 26,
     "metadata": {},
     "output_type": "execute_result"
    }
   ],
   "source": [
    "11%2"
   ]
  },
  {
   "cell_type": "code",
   "execution_count": 27,
   "id": "284ead5f-5b6c-41d3-b438-43ad2c819154",
   "metadata": {},
   "outputs": [
    {
     "data": {
      "text/plain": [
       "1"
      ]
     },
     "execution_count": 27,
     "metadata": {},
     "output_type": "execute_result"
    }
   ],
   "source": [
    "100%3"
   ]
  },
  {
   "cell_type": "code",
   "execution_count": 23,
   "id": "c1bbb1a1-e71f-409d-88ed-a98143bba92d",
   "metadata": {},
   "outputs": [
    {
     "data": {
      "text/plain": [
       "2"
      ]
     },
     "execution_count": 23,
     "metadata": {},
     "output_type": "execute_result"
    }
   ],
   "source": [
    "100%7"
   ]
  },
  {
   "cell_type": "markdown",
   "id": "8fcddbda-d49c-4f5b-acbe-6dab6c8fde63",
   "metadata": {},
   "source": [
    "# Data Type\n",
    "- Text Type\n",
    "- Numeric Types\n",
    "- Boolean Type\n",
    "- Binary Types\n",
    "- None Type"
   ]
  },
  {
   "cell_type": "code",
   "execution_count": 27,
   "id": "32fb33be-8bd7-4e10-a112-e73e33be4e84",
   "metadata": {},
   "outputs": [
    {
     "data": {
      "text/plain": [
       "'This is the second class on Python'"
      ]
     },
     "execution_count": 27,
     "metadata": {},
     "output_type": "execute_result"
    }
   ],
   "source": [
    "\"This is the second class on Python\""
   ]
  },
  {
   "cell_type": "markdown",
   "id": "ba067f6e-19ae-486c-8a04-1afcbc5902be",
   "metadata": {},
   "source": [
    "### Numeric Types\n",
    "#### Integer and Float\n",
    "#### Integer -> Whole Number\n",
    "#### Float -> Real Number"
   ]
  },
  {
   "cell_type": "code",
   "execution_count": 2,
   "id": "ec9a5893-4cc3-461c-b2fa-4d6ccc1dc2cc",
   "metadata": {},
   "outputs": [
    {
     "data": {
      "text/plain": [
       "10"
      ]
     },
     "execution_count": 2,
     "metadata": {},
     "output_type": "execute_result"
    }
   ],
   "source": [
    "10"
   ]
  },
  {
   "cell_type": "code",
   "execution_count": 3,
   "id": "b592ddab-a353-4875-9acf-19cb86886503",
   "metadata": {},
   "outputs": [
    {
     "data": {
      "text/plain": [
       "10.333"
      ]
     },
     "execution_count": 3,
     "metadata": {},
     "output_type": "execute_result"
    }
   ],
   "source": [
    "10.333"
   ]
  },
  {
   "cell_type": "markdown",
   "id": "92c368ec-a850-4f91-bec9-202b7be89a6b",
   "metadata": {},
   "source": [
    "### Booleans\n",
    "##### True and False\n",
    "##### False -> 0\n",
    "##### True -> Other than 0"
   ]
  },
  {
   "cell_type": "code",
   "execution_count": 29,
   "id": "bc18d943-02a0-4950-8b04-c35f0748bb84",
   "metadata": {},
   "outputs": [
    {
     "data": {
      "text/plain": [
       "True"
      ]
     },
     "execution_count": 29,
     "metadata": {},
     "output_type": "execute_result"
    }
   ],
   "source": [
    "True"
   ]
  },
  {
   "cell_type": "code",
   "execution_count": 30,
   "id": "030a3a77-8e31-4d8a-a8f2-17cb80610836",
   "metadata": {},
   "outputs": [
    {
     "data": {
      "text/plain": [
       "False"
      ]
     },
     "execution_count": 30,
     "metadata": {},
     "output_type": "execute_result"
    }
   ],
   "source": [
    "False"
   ]
  },
  {
   "cell_type": "code",
   "execution_count": 31,
   "id": "cf44e5d2-dfa2-4a38-a17d-5bae979bd509",
   "metadata": {},
   "outputs": [
    {
     "name": "stdout",
     "output_type": "stream",
     "text": [
      "False\n"
     ]
    }
   ],
   "source": [
    "print(10>50)"
   ]
  },
  {
   "cell_type": "code",
   "execution_count": 32,
   "id": "c71c6b77-29f3-4e10-a9ee-f91a341d4bf1",
   "metadata": {},
   "outputs": [
    {
     "name": "stdout",
     "output_type": "stream",
     "text": [
      "True\n"
     ]
    }
   ],
   "source": [
    "print(50>10)"
   ]
  },
  {
   "cell_type": "code",
   "execution_count": 33,
   "id": "34fd9dab-c3d4-4996-91f6-73d98e7b8be1",
   "metadata": {},
   "outputs": [
    {
     "name": "stdout",
     "output_type": "stream",
     "text": [
      "True\n"
     ]
    }
   ],
   "source": [
    "print(bool(1))"
   ]
  },
  {
   "cell_type": "code",
   "execution_count": 34,
   "id": "e69823ea-35fa-4942-9a7d-bb4214a84c56",
   "metadata": {},
   "outputs": [
    {
     "name": "stdout",
     "output_type": "stream",
     "text": [
      "False\n"
     ]
    }
   ],
   "source": [
    "print(bool(0))"
   ]
  },
  {
   "cell_type": "code",
   "execution_count": 41,
   "id": "ab0522df-f0cb-4d40-95f6-20e7d0436a04",
   "metadata": {},
   "outputs": [
    {
     "name": "stdout",
     "output_type": "stream",
     "text": [
      "True\n"
     ]
    }
   ],
   "source": [
    "print(bool(\"Hello\"))"
   ]
  },
  {
   "cell_type": "code",
   "execution_count": 44,
   "id": "9d9f8a08-9d91-4a76-a6ea-4b349fd0293a",
   "metadata": {},
   "outputs": [
    {
     "name": "stdout",
     "output_type": "stream",
     "text": [
      "<class 'bool'>\n"
     ]
    }
   ],
   "source": [
    "print (bool)"
   ]
  },
  {
   "cell_type": "code",
   "execution_count": 46,
   "id": "46b65afc-9fbd-473c-89d2-ce6b89751e25",
   "metadata": {},
   "outputs": [],
   "source": [
    "None"
   ]
  },
  {
   "cell_type": "markdown",
   "id": "209a1254-6257-45de-818f-3d47b5aac4c9",
   "metadata": {},
   "source": [
    "### Getting the Data Type"
   ]
  },
  {
   "cell_type": "code",
   "execution_count": 47,
   "id": "e713e390-fbd3-4690-b0aa-aac4b16c6426",
   "metadata": {},
   "outputs": [
    {
     "data": {
      "text/plain": [
       "str"
      ]
     },
     "execution_count": 47,
     "metadata": {},
     "output_type": "execute_result"
    }
   ],
   "source": [
    "type(\"Hello Everyone\")"
   ]
  },
  {
   "cell_type": "code",
   "execution_count": 15,
   "id": "9f6fbd33-f9d4-4b96-85ad-bfdc4740fdfe",
   "metadata": {},
   "outputs": [
    {
     "data": {
      "text/plain": [
       "str"
      ]
     },
     "execution_count": 15,
     "metadata": {},
     "output_type": "execute_result"
    }
   ],
   "source": [
    "type(\"This is the Python Class\")"
   ]
  },
  {
   "cell_type": "code",
   "execution_count": 48,
   "id": "e68ba077-edd1-4cbf-9552-54dffe306d1c",
   "metadata": {},
   "outputs": [
    {
     "data": {
      "text/plain": [
       "str"
      ]
     },
     "execution_count": 48,
     "metadata": {},
     "output_type": "execute_result"
    }
   ],
   "source": [
    "type(\"123\")"
   ]
  },
  {
   "cell_type": "code",
   "execution_count": 49,
   "id": "65410336-4480-4106-83a9-6b9018d86f33",
   "metadata": {},
   "outputs": [
    {
     "data": {
      "text/plain": [
       "int"
      ]
     },
     "execution_count": 49,
     "metadata": {},
     "output_type": "execute_result"
    }
   ],
   "source": [
    "type(123)"
   ]
  },
  {
   "cell_type": "code",
   "execution_count": 50,
   "id": "50f516c1-696d-47a0-b0f7-e25221a5053b",
   "metadata": {},
   "outputs": [
    {
     "data": {
      "text/plain": [
       "float"
      ]
     },
     "execution_count": 50,
     "metadata": {},
     "output_type": "execute_result"
    }
   ],
   "source": [
    "type(123.123)"
   ]
  },
  {
   "cell_type": "code",
   "execution_count": 19,
   "id": "851d655c-cac2-4193-b585-8f4547f54550",
   "metadata": {},
   "outputs": [
    {
     "data": {
      "text/plain": [
       "bool"
      ]
     },
     "execution_count": 19,
     "metadata": {},
     "output_type": "execute_result"
    }
   ],
   "source": [
    "type(True)"
   ]
  },
  {
   "cell_type": "code",
   "execution_count": 20,
   "id": "71e80bb1-fe49-4672-ac62-6133a860e375",
   "metadata": {},
   "outputs": [
    {
     "data": {
      "text/plain": [
       "bool"
      ]
     },
     "execution_count": 20,
     "metadata": {},
     "output_type": "execute_result"
    }
   ],
   "source": [
    "type(False)"
   ]
  },
  {
   "cell_type": "code",
   "execution_count": 22,
   "id": "8c5dd302-43d2-4717-958d-fd0fa79f5b5e",
   "metadata": {},
   "outputs": [
    {
     "data": {
      "text/plain": [
       "int"
      ]
     },
     "execution_count": 22,
     "metadata": {},
     "output_type": "execute_result"
    }
   ],
   "source": [
    "type(0)"
   ]
  },
  {
   "cell_type": "code",
   "execution_count": 51,
   "id": "0f6e2c50-9e1b-4ee6-82ed-15e30a5069a4",
   "metadata": {},
   "outputs": [
    {
     "data": {
      "text/plain": [
       "NoneType"
      ]
     },
     "execution_count": 51,
     "metadata": {},
     "output_type": "execute_result"
    }
   ],
   "source": [
    "type(None)"
   ]
  },
  {
   "cell_type": "markdown",
   "id": "d915e99e-f1c9-4e04-ab8d-60cffc5118ae",
   "metadata": {},
   "source": [
    "# Variable\n",
    "### What is variable?\n",
    "Python Variable is containers that store values\n",
    "\n",
    "### Rules for Python variables\n",
    "- A Python variable name must start with a letter or the underscore character.\n",
    "- A Python variable name cannot start with a number.\n",
    "- A Python variable name can only contain alpha-numeric characters and underscores (A-z, 0-9, and _ ).\n",
    "- Variable in Python names are case-sensitive (name, Name, and NAME are three different variables).\n",
    "- The reserved words(keywords) in Python cannot be used to name the variable in Python."
   ]
  },
  {
   "cell_type": "code",
   "execution_count": 75,
   "id": "7f8914ce-7103-4eb0-b0fa-7071c691c3ad",
   "metadata": {},
   "outputs": [],
   "source": [
    "first_name = \"Urmi\""
   ]
  },
  {
   "cell_type": "code",
   "execution_count": 76,
   "id": "4ab33f57-6ebc-4c77-9af1-5d1555e49d93",
   "metadata": {},
   "outputs": [
    {
     "name": "stdout",
     "output_type": "stream",
     "text": [
      "Urmi\n"
     ]
    }
   ],
   "source": [
    "print(first_name)"
   ]
  },
  {
   "cell_type": "code",
   "execution_count": 77,
   "id": "4035e579-7f57-4d37-8fae-b9621b69ef21",
   "metadata": {},
   "outputs": [],
   "source": [
    "Name = \"Urmi Karmakar\""
   ]
  },
  {
   "cell_type": "code",
   "execution_count": 78,
   "id": "27e2c8d6-ad2a-4499-8cf1-e55c369a92bd",
   "metadata": {},
   "outputs": [
    {
     "name": "stdout",
     "output_type": "stream",
     "text": [
      "Urmi Karmakar\n"
     ]
    }
   ],
   "source": [
    "print(Name)"
   ]
  },
  {
   "cell_type": "code",
   "execution_count": 57,
   "id": "25976d78-adb3-49f0-af51-11b9039e6185",
   "metadata": {},
   "outputs": [],
   "source": [
    "_a = 5"
   ]
  },
  {
   "cell_type": "code",
   "execution_count": 58,
   "id": "cad6a6e8-9cf6-419b-8f1c-751e79d2c6bf",
   "metadata": {},
   "outputs": [
    {
     "name": "stdout",
     "output_type": "stream",
     "text": [
      "5\n"
     ]
    }
   ],
   "source": [
    "print(_a)"
   ]
  },
  {
   "cell_type": "markdown",
   "id": "3026d4f1-51ad-4cf1-8631-71a1a001c208",
   "metadata": {},
   "source": [
    "### Python Assign Values to Multiple Variables"
   ]
  },
  {
   "cell_type": "code",
   "execution_count": 74,
   "id": "854558a0-5515-4f03-b778-ca76c1e38953",
   "metadata": {},
   "outputs": [],
   "source": [
    "a = 7\n",
    "b = 7\n",
    "c = 7"
   ]
  },
  {
   "cell_type": "code",
   "execution_count": 72,
   "id": "4ea53ed7-8295-4c86-949c-9e494faf576b",
   "metadata": {},
   "outputs": [],
   "source": [
    "a = b = c = 7"
   ]
  },
  {
   "cell_type": "code",
   "execution_count": 73,
   "id": "74934c9d-7651-4298-bf2d-515ec3b67bfb",
   "metadata": {},
   "outputs": [
    {
     "name": "stdout",
     "output_type": "stream",
     "text": [
      "7\n"
     ]
    }
   ],
   "source": [
    "print(b)"
   ]
  },
  {
   "cell_type": "markdown",
   "id": "f6b9b168-fa78-4ea9-9964-e51d3fb217d9",
   "metadata": {},
   "source": [
    "### How does + operator work with variables? "
   ]
  },
  {
   "cell_type": "code",
   "execution_count": 79,
   "id": "2fe460de-ad1a-4260-bb6c-123a6389d4bb",
   "metadata": {},
   "outputs": [
    {
     "name": "stdout",
     "output_type": "stream",
     "text": [
      "50\n"
     ]
    }
   ],
   "source": [
    "a = 20\n",
    "b = 30\n",
    "print(a+b)"
   ]
  },
  {
   "cell_type": "code",
   "execution_count": 2,
   "id": "e475cf7c-fae3-4bab-a05e-2314e78d5bd8",
   "metadata": {},
   "outputs": [
    {
     "name": "stdout",
     "output_type": "stream",
     "text": [
      "My Name is Urmi karmakar\n"
     ]
    }
   ],
   "source": [
    "a = \"My Name is\"\n",
    "b = \"Urmi karmakar\"\n",
    "\n",
    "print(a + \" \" + b)"
   ]
  },
  {
   "cell_type": "markdown",
   "id": "b3c8386e-641c-4658-b233-0e74326970d5",
   "metadata": {},
   "source": [
    "### Type Casting in variable"
   ]
  },
  {
   "cell_type": "code",
   "execution_count": 83,
   "id": "011cf937-8757-4544-a3ac-6d184f6cbcb4",
   "metadata": {},
   "outputs": [],
   "source": [
    "number = \"122334455\""
   ]
  },
  {
   "cell_type": "code",
   "execution_count": 88,
   "id": "90b595e7-c946-4a04-a988-c19de4b66ab0",
   "metadata": {},
   "outputs": [
    {
     "name": "stdout",
     "output_type": "stream",
     "text": [
      "122334455\n"
     ]
    }
   ],
   "source": [
    "print(number)"
   ]
  },
  {
   "cell_type": "code",
   "execution_count": 85,
   "id": "5ffa2084-727f-4355-9008-e9b99aa37112",
   "metadata": {},
   "outputs": [
    {
     "data": {
      "text/plain": [
       "str"
      ]
     },
     "execution_count": 85,
     "metadata": {},
     "output_type": "execute_result"
    }
   ],
   "source": [
    "type(number)"
   ]
  },
  {
   "cell_type": "code",
   "execution_count": 86,
   "id": "61fb4f81-5a65-40af-82fe-4e954b7a4e88",
   "metadata": {},
   "outputs": [],
   "source": [
    "new_number = int(number)"
   ]
  },
  {
   "cell_type": "code",
   "execution_count": 87,
   "id": "50d4db17-85b4-4bcc-a9be-3605c7a30c17",
   "metadata": {},
   "outputs": [
    {
     "data": {
      "text/plain": [
       "int"
      ]
     },
     "execution_count": 87,
     "metadata": {},
     "output_type": "execute_result"
    }
   ],
   "source": [
    "type(new_number)"
   ]
  },
  {
   "cell_type": "code",
   "execution_count": 90,
   "id": "8c8927eb-c911-49ea-92cb-34b4f1d2be7f",
   "metadata": {},
   "outputs": [],
   "source": [
    "char = \"123\""
   ]
  },
  {
   "cell_type": "code",
   "execution_count": 91,
   "id": "03ac3491-ee4a-4fe6-8f0f-e492590664ee",
   "metadata": {},
   "outputs": [
    {
     "data": {
      "text/plain": [
       "str"
      ]
     },
     "execution_count": 91,
     "metadata": {},
     "output_type": "execute_result"
    }
   ],
   "source": [
    "type(char)"
   ]
  },
  {
   "cell_type": "code",
   "execution_count": 92,
   "id": "6b7970c4-5d4c-4937-b5b6-40fe3de78e3a",
   "metadata": {},
   "outputs": [],
   "source": [
    "new_char = int(char)"
   ]
  },
  {
   "cell_type": "code",
   "execution_count": 93,
   "id": "519e5085-cd97-46ed-b9a5-fa1d7e62f9c9",
   "metadata": {},
   "outputs": [
    {
     "name": "stdout",
     "output_type": "stream",
     "text": [
      "123\n"
     ]
    }
   ],
   "source": [
    "print(new_char)"
   ]
  },
  {
   "cell_type": "code",
   "execution_count": 95,
   "id": "31ff10cc-9d8e-4b1c-b248-1dd5eee19cc6",
   "metadata": {},
   "outputs": [
    {
     "data": {
      "text/plain": [
       "0"
      ]
     },
     "execution_count": 95,
     "metadata": {},
     "output_type": "execute_result"
    }
   ],
   "source": [
    "int(False)"
   ]
  },
  {
   "cell_type": "code",
   "execution_count": 97,
   "id": "7e1bd7f1-c7b0-4ca1-9f2e-c72444e4b4b1",
   "metadata": {},
   "outputs": [
    {
     "data": {
      "text/plain": [
       "True"
      ]
     },
     "execution_count": 97,
     "metadata": {},
     "output_type": "execute_result"
    }
   ],
   "source": [
    "bool(1)"
   ]
  },
  {
   "cell_type": "code",
   "execution_count": 100,
   "id": "b84e61b1-8f88-4670-a7d8-d09ef91f776f",
   "metadata": {},
   "outputs": [
    {
     "data": {
      "text/plain": [
       "True"
      ]
     },
     "execution_count": 100,
     "metadata": {},
     "output_type": "execute_result"
    }
   ],
   "source": [
    "bool(\"Hello\")"
   ]
  },
  {
   "cell_type": "code",
   "execution_count": 101,
   "id": "cb6fb329-28be-4394-aeab-64aad99f9113",
   "metadata": {},
   "outputs": [
    {
     "data": {
      "text/plain": [
       "False"
      ]
     },
     "execution_count": 101,
     "metadata": {},
     "output_type": "execute_result"
    }
   ],
   "source": [
    "bool()"
   ]
  },
  {
   "cell_type": "code",
   "execution_count": 4,
   "id": "b1b0dc6b-7f32-487b-b240-2a2c0df10a24",
   "metadata": {},
   "outputs": [
    {
     "name": "stdout",
     "output_type": "stream",
     "text": [
      "20.112\n",
      "20\n"
     ]
    }
   ],
   "source": [
    "a = 20.112\n",
    "print(a)\n",
    "new_a = int(a)\n",
    "print(new_a)"
   ]
  },
  {
   "cell_type": "code",
   "execution_count": 5,
   "id": "9f569244-24ef-4466-9451-a9df77843f48",
   "metadata": {},
   "outputs": [
    {
     "name": "stdout",
     "output_type": "stream",
     "text": [
      "100\n",
      "100.0\n"
     ]
    }
   ],
   "source": [
    "b = 100\n",
    "print(b)\n",
    "new_b = float(b)\n",
    "print(new_b)"
   ]
  },
  {
   "cell_type": "markdown",
   "id": "78b8c07c-3a4d-4c4c-bc5e-7cdff56199b5",
   "metadata": {},
   "source": [
    "### Get the variable type"
   ]
  },
  {
   "cell_type": "code",
   "execution_count": 112,
   "id": "02c54de8-4da3-4d87-a625-ecbe52131ee1",
   "metadata": {},
   "outputs": [
    {
     "data": {
      "text/plain": [
       "int"
      ]
     },
     "execution_count": 112,
     "metadata": {},
     "output_type": "execute_result"
    }
   ],
   "source": [
    "type(b)"
   ]
  },
  {
   "cell_type": "code",
   "execution_count": 113,
   "id": "8ee043d6-526d-4acd-9d93-8fb672465d0a",
   "metadata": {},
   "outputs": [
    {
     "data": {
      "text/plain": [
       "float"
      ]
     },
     "execution_count": 113,
     "metadata": {},
     "output_type": "execute_result"
    }
   ],
   "source": [
    "type(new_b)"
   ]
  },
  {
   "cell_type": "markdown",
   "id": "b28409fa-f606-4d85-8c93-450abe877c88",
   "metadata": {},
   "source": [
    "### Print Variables"
   ]
  },
  {
   "cell_type": "code",
   "execution_count": 7,
   "id": "d6c83416-7a0b-45f1-84e3-0897b1b64d88",
   "metadata": {},
   "outputs": [
    {
     "name": "stdout",
     "output_type": "stream",
     "text": [
      "30\n"
     ]
    }
   ],
   "source": [
    "a = 10\n",
    "b = 20\n",
    "print(a+b)"
   ]
  },
  {
   "cell_type": "code",
   "execution_count": 115,
   "id": "7dc0df4e-a934-4fbc-9202-f6e974ac091c",
   "metadata": {},
   "outputs": [
    {
     "name": "stdout",
     "output_type": "stream",
     "text": [
      "10 20 30\n"
     ]
    }
   ],
   "source": [
    "a = 10\n",
    "b = 20\n",
    "c = 30\n",
    "print(a, b, c)"
   ]
  },
  {
   "cell_type": "code",
   "execution_count": 8,
   "id": "fb09958d-d77b-4247-8e7e-badfdd030059",
   "metadata": {},
   "outputs": [
    {
     "name": "stdout",
     "output_type": "stream",
     "text": [
      "Urmi Karmakar\n"
     ]
    }
   ],
   "source": [
    "first_name = \"Urmi \"\n",
    "second_name = \"Karmakar\"\n",
    "print(first_name + second_name)"
   ]
  },
  {
   "cell_type": "code",
   "execution_count": 9,
   "id": "76cb8bb4-0e81-48a0-9f50-374219dff827",
   "metadata": {},
   "outputs": [
    {
     "name": "stdout",
     "output_type": "stream",
     "text": [
      "Urmi Karmakar\n"
     ]
    }
   ],
   "source": [
    "first_name = \"Urmi\"\n",
    "second_name = \"Karmakar\"\n",
    "print(first_name, second_name)"
   ]
  },
  {
   "cell_type": "code",
   "execution_count": 10,
   "id": "df33db65-0025-45b5-8041-74f6f09d0ae9",
   "metadata": {},
   "outputs": [
    {
     "name": "stdout",
     "output_type": "stream",
     "text": [
      "This is year 2024\n"
     ]
    }
   ],
   "source": [
    "Year = str(2024)\n",
    "print(\"This is year \" + Year)"
   ]
  },
  {
   "cell_type": "code",
   "execution_count": 121,
   "id": "e5510f8a-d0f9-4205-bf1f-36872b56a50b",
   "metadata": {},
   "outputs": [
    {
     "name": "stdout",
     "output_type": "stream",
     "text": [
      "This is year 2024\n"
     ]
    }
   ],
   "source": [
    "Year = 2024\n",
    "print(\"This is year \" + str(Year))"
   ]
  },
  {
   "cell_type": "code",
   "execution_count": 12,
   "id": "fd8b6595-d5e4-4d4b-8c52-f0612dfc53f4",
   "metadata": {},
   "outputs": [
    {
     "name": "stdout",
     "output_type": "stream",
     "text": [
      "Today is 24th July, 2024.\n"
     ]
    }
   ],
   "source": [
    "Date = 24\n",
    "Month = \"July\"\n",
    "Year = 2024\n",
    "print(\"Today is \" + str(Date) + \"th \" + Month + \", \" + str(Year) + \".\")"
   ]
  },
  {
   "cell_type": "markdown",
   "id": "5d491b3a-a83b-4993-854a-66f2ebbf7bd0",
   "metadata": {},
   "source": [
    "### Different Type of Variable Print"
   ]
  },
  {
   "cell_type": "code",
   "execution_count": 125,
   "id": "0f7385b6-f07d-44c0-b4e0-4f8a213214aa",
   "metadata": {},
   "outputs": [
    {
     "name": "stdout",
     "output_type": "stream",
     "text": [
      "Today is 22th July, 2024.\n",
      "Today is July 22th, 2024.\n"
     ]
    }
   ],
   "source": [
    "Date = 22\n",
    "Month = \"July\"\n",
    "Year = 2024\n",
    "print(f\"Today is {Date}th {Month}, {Year}.\")\n",
    "print(f\"Today is {Month} {Date}th, {Year}.\")"
   ]
  },
  {
   "cell_type": "code",
   "execution_count": 126,
   "id": "c60de550-85e4-45d2-8a8f-b39266d5ae37",
   "metadata": {},
   "outputs": [
    {
     "name": "stdout",
     "output_type": "stream",
     "text": [
      "Today is 22th July, 2024.\n",
      "Today is July 22th, 2024.\n"
     ]
    }
   ],
   "source": [
    "Date = 22\n",
    "Month = \"July\"\n",
    "Year = 2024\n",
    "print(\"Today is {}th {}, {}.\".format(Date, Month, Year))\n",
    "print(\"Today is {} {}th, {}.\".format(Month, Date, Year))"
   ]
  },
  {
   "cell_type": "code",
   "execution_count": 128,
   "id": "65d6d398-e49e-4863-84a5-b4025f5907a4",
   "metadata": {},
   "outputs": [
    {
     "ename": "ZeroDivisionError",
     "evalue": "division by zero",
     "output_type": "error",
     "traceback": [
      "\u001b[1;31m---------------------------------------------------------------------------\u001b[0m",
      "\u001b[1;31mZeroDivisionError\u001b[0m                         Traceback (most recent call last)",
      "Cell \u001b[1;32mIn[128], line 1\u001b[0m\n\u001b[1;32m----> 1\u001b[0m \u001b[38;5;241;43m1\u001b[39;49m\u001b[38;5;241;43m/\u001b[39;49m\u001b[38;5;241;43m0\u001b[39;49m\n",
      "\u001b[1;31mZeroDivisionError\u001b[0m: division by zero"
     ]
    }
   ],
   "source": [
    "1/0"
   ]
  },
  {
   "cell_type": "markdown",
   "id": "bf85df41-ceb8-4b58-8a26-e7e520052461",
   "metadata": {},
   "source": [
    "# Comment in Python\n",
    "### Single Line Comment"
   ]
  },
  {
   "cell_type": "code",
   "execution_count": 110,
   "id": "1b313b20-bb92-4421-9493-5bff2fd6d75e",
   "metadata": {},
   "outputs": [
    {
     "name": "stdout",
     "output_type": "stream",
     "text": [
      "Hello World\n"
     ]
    }
   ],
   "source": [
    "# Today is May 11th\n",
    "# We are taking Python class\n",
    "\n",
    "print(\"Hello World\") # This is a line to print in Python"
   ]
  },
  {
   "cell_type": "code",
   "execution_count": 111,
   "id": "ca80e9cb-5376-4b82-81ad-b23a828708ba",
   "metadata": {},
   "outputs": [],
   "source": [
    "# Today is May 11th\n",
    "# We are taking Python class\n",
    "\n",
    "print(\"Hello World\") # This is a line to print in Python"
   ]
  },
  {
   "cell_type": "markdown",
   "id": "fea1726c-4244-4e3d-b20b-ad4a0a3b90e2",
   "metadata": {},
   "source": [
    "### Multiline Comment"
   ]
  },
  {
   "cell_type": "code",
   "execution_count": 132,
   "id": "18c66502-bb7a-4e64-b43a-24cef21403ad",
   "metadata": {},
   "outputs": [
    {
     "name": "stdout",
     "output_type": "stream",
     "text": [
      "Hello World\n",
      "Goodbye\n"
     ]
    }
   ],
   "source": [
    "print(\"Hello World\")\n",
    "# print(\"Do not print this line\")\n",
    "# print(\"Do not print this line\")\n",
    "# print(\"Do not print this line\")\n",
    "# print(\"Do not print this line\")\n",
    "# print(\"Do not print this line\")\n",
    "# print(\"Do not print this line\")\n",
    "print(\"Goodbye\")"
   ]
  },
  {
   "cell_type": "code",
   "execution_count": 133,
   "id": "8df00206-5857-4c20-810a-5190a4b2f40e",
   "metadata": {},
   "outputs": [
    {
     "name": "stdout",
     "output_type": "stream",
     "text": [
      "Hello World\n"
     ]
    }
   ],
   "source": [
    "'''\n",
    "Today is May 11th\n",
    "We are taking Python class\n",
    "'''\n",
    "print(\"Hello World\")"
   ]
  },
  {
   "cell_type": "code",
   "execution_count": 134,
   "id": "89399a0e-3d03-4a3a-8892-9736321c7f43",
   "metadata": {},
   "outputs": [
    {
     "name": "stdout",
     "output_type": "stream",
     "text": [
      "Hello World\n"
     ]
    }
   ],
   "source": [
    "\"\"\"\n",
    "Today is July 22th\n",
    "We are taking Python class\n",
    "asa\n",
    "d\n",
    "asdad\n",
    "as\n",
    "\"\"\"\n",
    "print(\"Hello World\")"
   ]
  },
  {
   "cell_type": "markdown",
   "id": "f7f73416-dc87-4aa9-9400-de5b526ecb00",
   "metadata": {},
   "source": [
    "# Python Strings"
   ]
  },
  {
   "cell_type": "code",
   "execution_count": 122,
   "id": "d3ab7517-aec9-47fc-bcb5-198834f8a75d",
   "metadata": {},
   "outputs": [
    {
     "name": "stdout",
     "output_type": "stream",
     "text": [
      "This is our second class in Python\n"
     ]
    }
   ],
   "source": [
    "print(\"This is our second class in Python\")"
   ]
  },
  {
   "cell_type": "code",
   "execution_count": 124,
   "id": "9e5d611f-43d6-42e8-aa6c-0911824a88cf",
   "metadata": {},
   "outputs": [
    {
     "name": "stdout",
     "output_type": "stream",
     "text": [
      "0111223445666\n"
     ]
    }
   ],
   "source": [
    "print(\"0111223445666\")"
   ]
  },
  {
   "cell_type": "markdown",
   "id": "eb54895d-2f4d-4c42-b859-ec4e9f593bb4",
   "metadata": {},
   "source": [
    "### Multiline Strings"
   ]
  },
  {
   "cell_type": "code",
   "execution_count": 140,
   "id": "16ec2b9a-4120-4ff4-b64a-fc9721d5c7c5",
   "metadata": {},
   "outputs": [],
   "source": [
    "b = '''The limerick packs laughs anatomical\n",
    "Into space that is quite economical.\n",
    "But the good ones I've seen\n",
    "So seldom are clean\n",
    "And the clean ones so seldom are comical.'''"
   ]
  },
  {
   "cell_type": "code",
   "execution_count": 141,
   "id": "f5b0aba7-a436-47f2-aeeb-4d6522a70fcb",
   "metadata": {},
   "outputs": [
    {
     "name": "stdout",
     "output_type": "stream",
     "text": [
      "The limerick packs laughs anatomical\n",
      "Into space that is quite economical.\n",
      "But the good ones I've seen\n",
      "So seldom are clean\n",
      "And the clean ones so seldom are comical.\n"
     ]
    }
   ],
   "source": [
    "print(b)"
   ]
  },
  {
   "cell_type": "code",
   "execution_count": 148,
   "id": "1bd2ddd4-a174-4ccf-b1cb-c81d32f4917d",
   "metadata": {},
   "outputs": [],
   "source": [
    "a = \"The limerick packs laughs anatomical \\nInto space that is quite economical. \\nBut the good ones I've seen \\nSo seldom are clean \\nAnd the clean ones so seldom are comical.\""
   ]
  },
  {
   "cell_type": "code",
   "execution_count": 149,
   "id": "9d50ad50-29ed-4526-a895-dca71ea31a03",
   "metadata": {},
   "outputs": [
    {
     "name": "stdout",
     "output_type": "stream",
     "text": [
      "The limerick packs laughs anatomical \n",
      "Into space that is quite economical. \n",
      "But the good ones I've seen \n",
      "So seldom are clean \n",
      "And the clean ones so seldom are comical.\n"
     ]
    }
   ],
   "source": [
    "print(a)"
   ]
  },
  {
   "cell_type": "markdown",
   "id": "82e66238-88fe-4059-954a-342d6c2fdeee",
   "metadata": {},
   "source": [
    "### Quotes Inside String"
   ]
  },
  {
   "cell_type": "code",
   "execution_count": 133,
   "id": "afda5eb5-f40b-4dc5-8477-21c96f102156",
   "metadata": {},
   "outputs": [
    {
     "name": "stdout",
     "output_type": "stream",
     "text": [
      "Frank Zappa says, 'So many books, so little time'\n"
     ]
    }
   ],
   "source": [
    "print(\"Frank Zappa says, 'So many books, so little time'\")"
   ]
  },
  {
   "cell_type": "code",
   "execution_count": 134,
   "id": "f02b1c39-3327-40f8-a72d-fb7b8265a90a",
   "metadata": {},
   "outputs": [
    {
     "name": "stdout",
     "output_type": "stream",
     "text": [
      "Frank Zappa says, \"So many books, so little time\"\n"
     ]
    }
   ],
   "source": [
    "print('Frank Zappa says, \"So many books, so little time\"')"
   ]
  },
  {
   "cell_type": "code",
   "execution_count": 136,
   "id": "a1df06e4-b157-4757-8e79-8aba722aebca",
   "metadata": {},
   "outputs": [
    {
     "name": "stdout",
     "output_type": "stream",
     "text": [
      "It's your choice\n"
     ]
    }
   ],
   "source": [
    "print(\"It's your choice\")"
   ]
  },
  {
   "cell_type": "markdown",
   "id": "551ea983-0d24-46db-8527-979c8617f073",
   "metadata": {},
   "source": [
    "### String <> Array\n",
    "##### Char:  H e l l o\n",
    "##### Index: 0 1 2 3 4\n",
    "\n",
    "##### string[0] = H\n",
    "##### string[1] = e\n",
    "....\n",
    "##### string[4] = o"
   ]
  },
  {
   "cell_type": "code",
   "execution_count": 152,
   "id": "ef535215-b42a-4944-a164-945de1b24f50",
   "metadata": {},
   "outputs": [
    {
     "name": "stdout",
     "output_type": "stream",
     "text": [
      "Hello\n"
     ]
    }
   ],
   "source": [
    "string = \"Hello\"\n",
    "print(string)"
   ]
  },
  {
   "cell_type": "code",
   "execution_count": 157,
   "id": "3e944765-4906-4bf5-b7aa-270ebabd8360",
   "metadata": {},
   "outputs": [
    {
     "name": "stdout",
     "output_type": "stream",
     "text": [
      "H\n",
      "e\n",
      "l\n",
      "l\n",
      "o\n"
     ]
    }
   ],
   "source": [
    "print(string[0])\n",
    "print(string[1])\n",
    "print(string[2])\n",
    "print(string[3])\n",
    "print(string[4])"
   ]
  },
  {
   "cell_type": "markdown",
   "id": "604ebd62-d2f2-4ab8-9e3f-11e11d8a49fb",
   "metadata": {},
   "source": [
    "### Slicing Strings\n",
    "##### string [slicing_first_index : slicing_last_index+1 : increment or decrement]"
   ]
  },
  {
   "cell_type": "code",
   "execution_count": 23,
   "id": "9ec1eba8-261e-495c-9efc-aa307fa9e073",
   "metadata": {},
   "outputs": [],
   "source": [
    "name = \"Urmi Karmakar\""
   ]
  },
  {
   "cell_type": "code",
   "execution_count": 24,
   "id": "4c867023-a945-478a-a67a-68a86d9955a9",
   "metadata": {},
   "outputs": [
    {
     "name": "stdout",
     "output_type": "stream",
     "text": [
      " \n",
      "U\n",
      "K\n"
     ]
    }
   ],
   "source": [
    "print(name[4])\n",
    "print(name[0])\n",
    "print(name[5])"
   ]
  },
  {
   "cell_type": "code",
   "execution_count": 31,
   "id": "5691f18b-345a-4026-86a1-b16deda4fa46",
   "metadata": {},
   "outputs": [
    {
     "name": "stdout",
     "output_type": "stream",
     "text": [
      "mi K\n",
      "Urmi Karmakar\n",
      "Urmi K\n",
      "Urmi K\n",
      "Karmakar\n",
      "Um amkr\n",
      "Urmi Karmakar\n",
      "rakamraK imrU\n"
     ]
    }
   ],
   "source": [
    "print(name[2:6])\n",
    "print(name[:])\n",
    "print(name[:6])\n",
    "print(name[0:6])\n",
    "print(name[5:])\n",
    "print(name[: :2])\n",
    "print(name[0:])\n",
    "print(name[: :-1])"
   ]
  },
  {
   "cell_type": "markdown",
   "id": "4ddc3298-d419-44e6-8db7-80f1c8d63193",
   "metadata": {},
   "source": [
    "### Modify Strings"
   ]
  },
  {
   "cell_type": "code",
   "execution_count": 13,
   "id": "79831577-825f-4372-9af9-9f8103cef906",
   "metadata": {},
   "outputs": [],
   "source": [
    "name = \"Urmi Karmakar\""
   ]
  },
  {
   "cell_type": "code",
   "execution_count": 14,
   "id": "70275877-4ca1-46e9-93b5-ef1c4aaefd13",
   "metadata": {},
   "outputs": [
    {
     "name": "stdout",
     "output_type": "stream",
     "text": [
      "URMI KARMAKAR\n"
     ]
    }
   ],
   "source": [
    "print(name.upper())"
   ]
  },
  {
   "cell_type": "code",
   "execution_count": 15,
   "id": "ddc49ee4-3044-49c1-bf6b-4641b0323971",
   "metadata": {},
   "outputs": [
    {
     "name": "stdout",
     "output_type": "stream",
     "text": [
      "urmi karmakar\n"
     ]
    }
   ],
   "source": [
    "print(name.lower())"
   ]
  },
  {
   "cell_type": "code",
   "execution_count": 16,
   "id": "6ac6bed4-b4fa-4849-a87b-6c3aed2a8a15",
   "metadata": {},
   "outputs": [
    {
     "name": "stdout",
     "output_type": "stream",
     "text": [
      "Urmi Karmakar\n"
     ]
    }
   ],
   "source": [
    "name = \"     Urmi Karmakar       \"\n",
    "\n",
    "print(name.strip())"
   ]
  },
  {
   "cell_type": "code",
   "execution_count": 22,
   "id": "9913dffe-5e3e-42b2-9571-afd52cca453f",
   "metadata": {},
   "outputs": [
    {
     "name": "stdout",
     "output_type": "stream",
     "text": [
      "['Urmi', 'Karmakar']\n"
     ]
    }
   ],
   "source": [
    "print(name.split())"
   ]
  },
  {
   "cell_type": "code",
   "execution_count": 21,
   "id": "5bce6205-6dea-408a-997b-21f4acd77eef",
   "metadata": {},
   "outputs": [
    {
     "name": "stdout",
     "output_type": "stream",
     "text": [
      "Ormi Karmakar\n"
     ]
    }
   ],
   "source": [
    "name = \"Urmi Karmakar\"\n",
    "name1 = name.replace(\"U\", \"O\")\n",
    "print(name1)"
   ]
  },
  {
   "cell_type": "code",
   "execution_count": 204,
   "id": "044a8e13-cba7-42ed-8e85-09be5fd01e90",
   "metadata": {},
   "outputs": [
    {
     "name": "stdout",
     "output_type": "stream",
     "text": [
      "['This', 'is', 'a', 'very', 'nice', 'day', 'Wow.']\n"
     ]
    }
   ],
   "source": [
    "string = \"This is a very nice day Wow.\"\n",
    "print(string.split())"
   ]
  },
  {
   "cell_type": "markdown",
   "id": "bb2f48da-5816-43fa-adec-d75416a167cb",
   "metadata": {},
   "source": [
    "### Concat Strings"
   ]
  },
  {
   "cell_type": "code",
   "execution_count": 208,
   "id": "8f0f0f97-77e5-413d-a91b-cb7f65fe8d85",
   "metadata": {},
   "outputs": [],
   "source": [
    "a = \"This\"\n",
    "b = \"is the second\"\n",
    "c = \"class on python\""
   ]
  },
  {
   "cell_type": "code",
   "execution_count": 209,
   "id": "b3de4453-3d6b-49b7-ac39-5407d2265f25",
   "metadata": {},
   "outputs": [],
   "source": [
    "final_string = a + \" \" + b + \" \" + c"
   ]
  },
  {
   "cell_type": "code",
   "execution_count": 210,
   "id": "759d6db6-ec74-4abb-80fd-0c6996b09c24",
   "metadata": {},
   "outputs": [
    {
     "name": "stdout",
     "output_type": "stream",
     "text": [
      "This is the second class on python\n"
     ]
    }
   ],
   "source": [
    "print(final_string)"
   ]
  },
  {
   "cell_type": "markdown",
   "id": "f03bf636-8b45-4715-90e1-186ffb77e9b1",
   "metadata": {},
   "source": [
    "### Escape Characters"
   ]
  },
  {
   "cell_type": "code",
   "execution_count": 211,
   "id": "34421398-6f0d-4737-8778-94b6e5765dd1",
   "metadata": {},
   "outputs": [],
   "source": [
    "text = \"This is the second class on \\\"Python\\\"\""
   ]
  },
  {
   "cell_type": "code",
   "execution_count": 212,
   "id": "b1bf0941-f222-4874-8ab9-0691d6322074",
   "metadata": {},
   "outputs": [
    {
     "name": "stdout",
     "output_type": "stream",
     "text": [
      "This is the second class on \"Python\"\n"
     ]
    }
   ],
   "source": [
    "print(text)"
   ]
  },
  {
   "cell_type": "code",
   "execution_count": 213,
   "id": "dd29a87d-da5b-4e6b-91df-5c360cc79bad",
   "metadata": {},
   "outputs": [
    {
     "name": "stdout",
     "output_type": "stream",
     "text": [
      "You may use \\n to create a new line.\n"
     ]
    }
   ],
   "source": [
    "print(\"You may use \\\\n to create a new line.\")"
   ]
  },
  {
   "cell_type": "code",
   "execution_count": 216,
   "id": "02354bbf-92ff-46e1-b3e1-332c36ebd657",
   "metadata": {},
   "outputs": [
    {
     "name": "stdout",
     "output_type": "stream",
     "text": [
      "Frank Zappa says, \"So many books, so little time\"\n"
     ]
    }
   ],
   "source": [
    "print('Frank Zappa says, \\\"So many books, so little time\\\"')"
   ]
  },
  {
   "cell_type": "markdown",
   "id": "f0268cb9-2ed7-446c-a813-0bed226b0067",
   "metadata": {},
   "source": [
    "# Operators\n",
    "\n",
    "###### Unary Operators -> One variable requires\n",
    "###### Binary Operators -> Two variables require\n",
    "###### Ternary Operators -> Three variables require"
   ]
  },
  {
   "cell_type": "code",
   "execution_count": 247,
   "id": "f6c50475-a33d-445a-a71a-b4146458ae91",
   "metadata": {},
   "outputs": [],
   "source": [
    "a = 100 # Assign"
   ]
  },
  {
   "cell_type": "code",
   "execution_count": 237,
   "id": "b9e2f0d7-178a-4520-af25-55a1ab43ae32",
   "metadata": {},
   "outputs": [
    {
     "name": "stdout",
     "output_type": "stream",
     "text": [
      "105\n"
     ]
    }
   ],
   "source": [
    "a = a + 5\n",
    "print(a)"
   ]
  },
  {
   "cell_type": "code",
   "execution_count": 238,
   "id": "176dddc1-c9f7-42e4-b831-9c60290d4b04",
   "metadata": {},
   "outputs": [
    {
     "name": "stdout",
     "output_type": "stream",
     "text": [
      "110\n"
     ]
    }
   ],
   "source": [
    "a += 5\n",
    "print(a)"
   ]
  },
  {
   "cell_type": "code",
   "execution_count": 239,
   "id": "6096fdb3-5441-4451-9c6c-00fe68b8dc76",
   "metadata": {},
   "outputs": [
    {
     "name": "stdout",
     "output_type": "stream",
     "text": [
      "100\n"
     ]
    }
   ],
   "source": [
    "a = a - 5\n",
    "a -= 5\n",
    "print(a)"
   ]
  },
  {
   "cell_type": "code",
   "execution_count": 240,
   "id": "ed1c87c1-18f9-4c97-b3e9-61882b2b4669",
   "metadata": {},
   "outputs": [
    {
     "name": "stdout",
     "output_type": "stream",
     "text": [
      "2500\n"
     ]
    }
   ],
   "source": [
    "a = a * 5\n",
    "a *= 5\n",
    "print(a)"
   ]
  },
  {
   "cell_type": "code",
   "execution_count": 241,
   "id": "7fbf8dd8-9bff-4ff2-9d7b-947bd50c04cb",
   "metadata": {},
   "outputs": [
    {
     "name": "stdout",
     "output_type": "stream",
     "text": [
      "100.0\n"
     ]
    }
   ],
   "source": [
    "a = a/5\n",
    "a /= 5\n",
    "print(a)"
   ]
  },
  {
   "cell_type": "code",
   "execution_count": 242,
   "id": "fd5576b0-3ed4-4674-8ffd-6e533a4fb25f",
   "metadata": {},
   "outputs": [
    {
     "name": "stdout",
     "output_type": "stream",
     "text": [
      "4.0\n"
     ]
    }
   ],
   "source": [
    "a = a // 5\n",
    "a //= 5\n",
    "print(a)"
   ]
  },
  {
   "cell_type": "code",
   "execution_count": 248,
   "id": "cb564811-2c52-4315-b918-b79716fd2819",
   "metadata": {},
   "outputs": [
    {
     "name": "stdout",
     "output_type": "stream",
     "text": [
      "100000000000000000000000000000000000000000000000000\n"
     ]
    }
   ],
   "source": [
    "a = a**5\n",
    "a **= 5\n",
    "print(a)"
   ]
  },
  {
   "cell_type": "code",
   "execution_count": 251,
   "id": "8469d8ce-1f05-4ac1-b3be-463977893c2b",
   "metadata": {},
   "outputs": [
    {
     "name": "stdout",
     "output_type": "stream",
     "text": [
      "5\n",
      "5\n"
     ]
    }
   ],
   "source": [
    "a = b = 5\n",
    "print(a)\n",
    "print(b)"
   ]
  },
  {
   "cell_type": "code",
   "execution_count": 254,
   "id": "112614fe-8b5c-4741-ad3f-9c3c1e7c0d9e",
   "metadata": {},
   "outputs": [
    {
     "name": "stdout",
     "output_type": "stream",
     "text": [
      "True\n",
      "False\n",
      "False\n",
      "True\n",
      "True\n",
      "False\n"
     ]
    }
   ],
   "source": [
    "a = 50\n",
    "b = 50\n",
    "\n",
    "print(a == b)\n",
    "print(a > b)\n",
    "print(a < b)\n",
    "print(a >= b)\n",
    "print(a <= b)\n",
    "print(a != b)"
   ]
  },
  {
   "cell_type": "code",
   "execution_count": 255,
   "id": "7adaf93c-dca7-4c6b-80c9-77d8dd9ecee1",
   "metadata": {},
   "outputs": [],
   "source": [
    "# Identity Operators"
   ]
  },
  {
   "cell_type": "code",
   "execution_count": 256,
   "id": "8ef2c2e4-af15-4b18-8b02-d499a290c751",
   "metadata": {},
   "outputs": [
    {
     "name": "stdout",
     "output_type": "stream",
     "text": [
      "a\n",
      "b\n",
      "c\n"
     ]
    }
   ],
   "source": [
    "# Membership Operators\n",
    "list2 = ['a', 'b', 'c']\n",
    "\n",
    "for i in list2:\n",
    "    print(i)"
   ]
  },
  {
   "cell_type": "markdown",
   "id": "9f714e57-aac8-41e7-bfe6-bf3348866080",
   "metadata": {},
   "source": [
    "# Lists []"
   ]
  },
  {
   "cell_type": "markdown",
   "id": "8be350d0-6919-4405-8dc7-5497f39091ba",
   "metadata": {},
   "source": [
    "### List Items\n",
    "- List items are ordered, changeable, and allow duplicate values.\n",
    "- List items are indexed, the first item has index [0], the second item has index [1] etc."
   ]
  },
  {
   "cell_type": "markdown",
   "id": "44e8362e-8e55-4f19-a736-8afcbfe0f3d0",
   "metadata": {},
   "source": [
    "### Ordered\n",
    "- When we say that lists are ordered, it means that the items have a defined order, and that order will not change.\n",
    "- If you add new items to a list, the new items will be placed at the end of the list."
   ]
  },
  {
   "cell_type": "code",
   "execution_count": 32,
   "id": "6a68570b-889b-4184-bd88-664cf03cc255",
   "metadata": {},
   "outputs": [
    {
     "data": {
      "text/plain": [
       "['Fiat', 'BMW', 'Audi', 'Tesla']"
      ]
     },
     "execution_count": 32,
     "metadata": {},
     "output_type": "execute_result"
    }
   ],
   "source": [
    "car = [\"Fiat\", \"BMW\", \"Audi\", \"Tesla\"]\n",
    "car"
   ]
  },
  {
   "cell_type": "code",
   "execution_count": 33,
   "id": "42824f57-d1b4-4a80-8323-53d0b3907dca",
   "metadata": {},
   "outputs": [
    {
     "data": {
      "text/plain": [
       "['Fiat', 'BMW', 'Audi', 'Tesla', 1, 1.233, True]"
      ]
     },
     "execution_count": 33,
     "metadata": {},
     "output_type": "execute_result"
    }
   ],
   "source": [
    "car = [\"Fiat\", \"BMW\", \"Audi\", \"Tesla\", 1, 1.233, True]\n",
    "car"
   ]
  },
  {
   "cell_type": "code",
   "execution_count": 34,
   "id": "3f36c683-4259-4d17-9a3c-ab222e97aceb",
   "metadata": {},
   "outputs": [
    {
     "name": "stdout",
     "output_type": "stream",
     "text": [
      "<class 'list'>\n"
     ]
    },
    {
     "data": {
      "text/plain": [
       "list"
      ]
     },
     "execution_count": 34,
     "metadata": {},
     "output_type": "execute_result"
    }
   ],
   "source": [
    "print(type(car))\n",
    "type(car)"
   ]
  },
  {
   "cell_type": "code",
   "execution_count": 35,
   "id": "632163fb-bde2-4a35-b182-2d2d656d1bd2",
   "metadata": {},
   "outputs": [
    {
     "name": "stdout",
     "output_type": "stream",
     "text": [
      "Audi\n"
     ]
    }
   ],
   "source": [
    "print(car[2])"
   ]
  },
  {
   "cell_type": "code",
   "execution_count": 36,
   "id": "b1ea538a-1252-4890-85f7-132ca8dae2f7",
   "metadata": {},
   "outputs": [
    {
     "name": "stdout",
     "output_type": "stream",
     "text": [
      "7\n"
     ]
    }
   ],
   "source": [
    "print(len(car))"
   ]
  },
  {
   "cell_type": "code",
   "execution_count": 39,
   "id": "86db8d37-1ef5-4dab-ad47-4243d02527ef",
   "metadata": {},
   "outputs": [
    {
     "name": "stdout",
     "output_type": "stream",
     "text": [
      "[True, False, False, True]\n",
      "[1, 4, 6, True, False, 3, 5, 6, False]\n"
     ]
    }
   ],
   "source": [
    "list1 = [True, False, False, True]\n",
    "list2 = [1, 4, 6, True, False, 3,  5,       6,    False]\n",
    "print(list1)\n",
    "print(list2)"
   ]
  },
  {
   "cell_type": "markdown",
   "id": "99468e5e-1f95-4b8d-acc0-fd7e758bb433",
   "metadata": {},
   "source": [
    "### List Items"
   ]
  },
  {
   "cell_type": "code",
   "execution_count": 275,
   "id": "b9597d06-2596-4407-aa33-9f1f79f8ee7d",
   "metadata": {},
   "outputs": [],
   "source": [
    "car = [\"Fiat\", \"BMW\", \"Audi\", \"Tesla\", \"Honda\", \"Ford\", \"Tata\"]"
   ]
  },
  {
   "cell_type": "code",
   "execution_count": 276,
   "id": "df580959-39a7-4a45-b805-71bc62fee5e9",
   "metadata": {},
   "outputs": [
    {
     "name": "stdout",
     "output_type": "stream",
     "text": [
      "Tesla\n"
     ]
    }
   ],
   "source": [
    "print(car[3])"
   ]
  },
  {
   "cell_type": "code",
   "execution_count": 277,
   "id": "c652f837-2588-471c-a7c8-76b923351d53",
   "metadata": {},
   "outputs": [
    {
     "name": "stdout",
     "output_type": "stream",
     "text": [
      "['Audi', 'Tesla', 'Honda', 'Ford']\n"
     ]
    }
   ],
   "source": [
    "## list_name[starting_index : ending_index + 1]\n",
    "print(car[2:6])"
   ]
  },
  {
   "cell_type": "code",
   "execution_count": 278,
   "id": "ff90df97-8562-49c7-8078-348b84da2e30",
   "metadata": {},
   "outputs": [
    {
     "name": "stdout",
     "output_type": "stream",
     "text": [
      "['Honda', 'Ford', 'Tata']\n"
     ]
    }
   ],
   "source": [
    "print(car[4:])"
   ]
  },
  {
   "cell_type": "code",
   "execution_count": 279,
   "id": "386e85ae-260a-48d0-8c49-61c0127ed193",
   "metadata": {},
   "outputs": [
    {
     "name": "stdout",
     "output_type": "stream",
     "text": [
      "['Fiat', 'BMW', 'Audi']\n"
     ]
    }
   ],
   "source": [
    "print(car[:3])"
   ]
  },
  {
   "cell_type": "code",
   "execution_count": 280,
   "id": "c9dfcb86-f786-4e56-ac24-4ef7bfc9f318",
   "metadata": {},
   "outputs": [
    {
     "name": "stdout",
     "output_type": "stream",
     "text": [
      "['Fiat', 'BMW']\n",
      "['Fiat', 'BMW', 'Audi', 'Tesla', 'Honda', 'Ford', 'Tata']\n"
     ]
    }
   ],
   "source": [
    "car = [\"Fiat\", \"BMW\", \"Audi\", \"Tesla\", \"Honda\", \"Ford\", \"Tata\"]\n",
    "print(car[:2])\n",
    "print(car[:])"
   ]
  },
  {
   "cell_type": "code",
   "execution_count": 281,
   "id": "dc6551e2-8dcc-49df-b4c1-f4535b797de3",
   "metadata": {},
   "outputs": [
    {
     "name": "stdout",
     "output_type": "stream",
     "text": [
      "['Fiat', 'BMW', 'Audi', 'Tesla', 'Honda', 'Ford', 'Tata']\n"
     ]
    }
   ],
   "source": [
    "print(car)"
   ]
  },
  {
   "cell_type": "code",
   "execution_count": 284,
   "id": "66048f23-cce3-4ca5-9426-828c52cc4679",
   "metadata": {},
   "outputs": [
    {
     "name": "stdout",
     "output_type": "stream",
     "text": [
      "W\n"
     ]
    }
   ],
   "source": [
    "print(car[1][2])"
   ]
  },
  {
   "cell_type": "code",
   "execution_count": 292,
   "id": "bb780323-81b1-4958-b9d7-34565fa62d41",
   "metadata": {},
   "outputs": [
    {
     "name": "stdout",
     "output_type": "stream",
     "text": [
      "['Fiat', 'BMW', 'Tata', 'Tesla', 'Honda', 'Ford']\n"
     ]
    }
   ],
   "source": [
    "#Replace list item \n",
    "car = [\"Fiat\", \"BMW\", \"Audi\", \"Tesla\", \"Honda\", \"Ford\"]\n",
    "car[2] = \"Tata\"\n",
    "print(car)"
   ]
  },
  {
   "cell_type": "code",
   "execution_count": 293,
   "id": "fbf7de4c-af2f-418a-a52c-9d97fd9077d2",
   "metadata": {},
   "outputs": [
    {
     "name": "stdout",
     "output_type": "stream",
     "text": [
      "['Fiat', 'BMW', 'Tata', 'Toyota', 'Honda', 'Ford']\n"
     ]
    }
   ],
   "source": [
    "#Replace list item\n",
    "car = [\"Fiat\", \"BMW\", \"Audi\", \"Tesla\", \"Honda\", \"Ford\"]\n",
    "car[2:4] = [\"Tata\", \"Toyota\"]\n",
    "print(car)"
   ]
  },
  {
   "cell_type": "code",
   "execution_count": 294,
   "id": "36b2304d-f455-4fd6-ac6c-1153548fb167",
   "metadata": {},
   "outputs": [
    {
     "name": "stdout",
     "output_type": "stream",
     "text": [
      "['Fiat', 'BMW', 'Tata', 'Toyota', 'Tesla', 'Honda', 'Ford']\n"
     ]
    }
   ],
   "source": [
    "#Replace 1 list item add 2 list item\n",
    "car = [\"Fiat\", \"BMW\", \"Audi\", \"Tesla\", \"Honda\", \"Ford\"]\n",
    "car[2:3] = [\"Tata\", \"Toyota\"]\n",
    "print(car)"
   ]
  },
  {
   "cell_type": "code",
   "execution_count": 295,
   "id": "1473edf8-7193-41a3-ad47-fc5e87c01b5c",
   "metadata": {},
   "outputs": [
    {
     "name": "stdout",
     "output_type": "stream",
     "text": [
      "['Fiat', 'BMW', 'Tata', 'Toyota']\n"
     ]
    }
   ],
   "source": [
    "#Replace list item after index 1 or in index 2\n",
    "car = [\"Fiat\", \"BMW\", \"Audi\", \"Tesla\", \"Honda\", \"Ford\"]\n",
    "car[2:6] = [\"Tata\", \"Toyota\"]\n",
    "print(car)"
   ]
  },
  {
   "cell_type": "code",
   "execution_count": 296,
   "id": "31866afc-f010-446c-8c9c-1631aaf73b42",
   "metadata": {},
   "outputs": [
    {
     "name": "stdout",
     "output_type": "stream",
     "text": [
      "['Fiat', 'BMW', 'Tata', 'Toyota', 'Audi', 'Tesla', 'Honda', 'Ford']\n"
     ]
    }
   ],
   "source": [
    "#No Replace add list item\n",
    "car = [\"Fiat\", \"BMW\", \"Audi\", \"Tesla\", \"Honda\", \"Ford\"]\n",
    "car[2:2] = [\"Tata\", \"Toyota\"]\n",
    "print(car)"
   ]
  },
  {
   "cell_type": "code",
   "execution_count": 298,
   "id": "79d9fc3c-52c8-4dd4-a098-7c693d94aff3",
   "metadata": {},
   "outputs": [
    {
     "name": "stdout",
     "output_type": "stream",
     "text": [
      "Tesla\n",
      "Audi\n",
      "M\n"
     ]
    }
   ],
   "source": [
    "#2D list item\n",
    "car = [\"Fiat\", \"BMW\", [\"Audi\", \"Tesla\"], \"Honda\", \"Ford\"]\n",
    "print(car[2][1])\n",
    "print(car[2][0])\n",
    "print(car[1][1])"
   ]
  },
  {
   "cell_type": "markdown",
   "id": "008aaafd-e93e-40e4-900c-d1cc34c5efd2",
   "metadata": {},
   "source": [
    "### Add and Remove List Items"
   ]
  },
  {
   "cell_type": "code",
   "execution_count": 299,
   "id": "6a767d41-064b-413a-9929-15583ed20228",
   "metadata": {},
   "outputs": [
    {
     "name": "stdout",
     "output_type": "stream",
     "text": [
      "['Fiat', 'BMW', 'Audi', 'Tesla', 'Honda', 'Ford', 'Tata']\n"
     ]
    }
   ],
   "source": [
    "#Add a list item in the last \n",
    "car = [\"Fiat\", \"BMW\", \"Audi\", \"Tesla\", \"Honda\", \"Ford\"]\n",
    "car.append(\"Tata\")\n",
    "print(car)"
   ]
  },
  {
   "cell_type": "code",
   "execution_count": 42,
   "id": "e3f9f845-870a-46fe-b86f-bf2c02d7cc2f",
   "metadata": {},
   "outputs": [
    {
     "name": "stdout",
     "output_type": "stream",
     "text": [
      "['Fiat', 'BMW', 'Tata', 'Audi', 'Tesla', 'Honda', 'Ford']\n"
     ]
    }
   ],
   "source": [
    "#Add list item in specific index\n",
    "car = [\"Fiat\", \"BMW\", \"Audi\", \"Tesla\", \"Honda\", \"Ford\"]\n",
    "car.insert(2, \"Tata\")\n",
    "print(car)"
   ]
  },
  {
   "cell_type": "code",
   "execution_count": 302,
   "id": "660871f2-1f5b-418a-9e9c-f99d1f60ed4b",
   "metadata": {},
   "outputs": [
    {
     "name": "stdout",
     "output_type": "stream",
     "text": [
      "['Fiat', 'BMW', 'Audi', 'Tesla', 'Honda', 'Ford']\n",
      "['Tesla', 'Honda', 'Ford']\n"
     ]
    }
   ],
   "source": [
    "#Add 2 list together\n",
    "car1 = [\"Fiat\", \"BMW\", \"Audi\"]\n",
    "car2 = [\"Tesla\", \"Honda\", \"Ford\"]\n",
    "\n",
    "car1.extend(car2)\n",
    "print(car1)\n",
    "print(car2)"
   ]
  },
  {
   "cell_type": "code",
   "execution_count": 303,
   "id": "8ac5f971-aba4-448f-870a-186e09c5bdcd",
   "metadata": {},
   "outputs": [
    {
     "name": "stdout",
     "output_type": "stream",
     "text": [
      "['Fiat', 'BMW', 'Audi']\n",
      "['Tesla', 'Honda', 'Ford', 'Fiat', 'BMW', 'Audi']\n"
     ]
    }
   ],
   "source": [
    "car1 = [\"Fiat\", \"BMW\", \"Audi\"]\n",
    "car2 = [\"Tesla\", \"Honda\", \"Ford\"]\n",
    "\n",
    "car2.extend(car1)\n",
    "print(car1)\n",
    "print(car2)"
   ]
  },
  {
   "cell_type": "code",
   "execution_count": 93,
   "id": "2658464d-40ef-4afc-89b4-725ebff5ba3a",
   "metadata": {},
   "outputs": [
    {
     "name": "stdout",
     "output_type": "stream",
     "text": [
      "['BMW', 'Audi', 'Tesla', 'Honda', 'Ford']\n"
     ]
    }
   ],
   "source": [
    "car = [\"Fiat\", \"BMW\", \"Audi\", \"Tesla\", \"Honda\", \"Ford\"]\n",
    "car.remove(\"Fiat\")\n",
    "print(car)"
   ]
  },
  {
   "cell_type": "code",
   "execution_count": 310,
   "id": "7469224c-d309-46ec-94d3-ea81e377fc0a",
   "metadata": {},
   "outputs": [
    {
     "name": "stdout",
     "output_type": "stream",
     "text": [
      "['BMW', 'Audi', 'Tesla', 'Honda', 'Ford', 'Fiat']\n"
     ]
    }
   ],
   "source": [
    "car = [\"Fiat\", \"BMW\", \"Audi\", \"Tesla\", \"Honda\", \"Ford\", \"Fiat\"]\n",
    "car.remove(\"Fiat\")\n",
    "print(car)"
   ]
  },
  {
   "cell_type": "code",
   "execution_count": 311,
   "id": "b30d0996-cae0-413e-b0c9-bbd705ee55d5",
   "metadata": {},
   "outputs": [
    {
     "name": "stdout",
     "output_type": "stream",
     "text": [
      "['BMW', 'Audi', 'Tesla', 'Honda', 'Ford']\n"
     ]
    }
   ],
   "source": [
    "car.remove(\"Fiat\")\n",
    "print(car)"
   ]
  },
  {
   "cell_type": "code",
   "execution_count": 43,
   "id": "d03ac229-3e03-4d9d-b73f-6b74f11dc04e",
   "metadata": {},
   "outputs": [
    {
     "name": "stdout",
     "output_type": "stream",
     "text": [
      "['Audi', 'BMW', 'Fiat']\n"
     ]
    }
   ],
   "source": [
    "# shift each other place\n",
    "car = [\"Fiat\", \"BMW\", \"Audi\"]\n",
    "\n",
    "temp = car[0]\n",
    "car[0] = car[2]\n",
    "car[2] = temp\n",
    "\n",
    "print(car)"
   ]
  },
  {
   "cell_type": "markdown",
   "id": "eb4e45fb-1fbb-486e-8ec8-29aa7fc227c9",
   "metadata": {},
   "source": [
    "### Sort List"
   ]
  },
  {
   "cell_type": "code",
   "execution_count": 316,
   "id": "e75f3be1-1a98-496e-b0d6-0d59be1a9f62",
   "metadata": {},
   "outputs": [
    {
     "name": "stdout",
     "output_type": "stream",
     "text": [
      "['Audi', 'BMW', 'Fiat', 'Ford', 'Honda', 'Tesla']\n"
     ]
    }
   ],
   "source": [
    "car = [\"Fiat\", \"BMW\", \"Audi\", \"Tesla\", \"Honda\", \"Ford\"]\n",
    "car.sort()\n",
    "print(car)"
   ]
  },
  {
   "cell_type": "code",
   "execution_count": 317,
   "id": "21718bea-f0a6-4e2d-8c18-a93616fe16b0",
   "metadata": {},
   "outputs": [
    {
     "name": "stdout",
     "output_type": "stream",
     "text": [
      "[2, 6, 12, 23, 43, 50, 65, 77]\n"
     ]
    }
   ],
   "source": [
    "number = [50,6,23,12,43,65,77,2]\n",
    "number.sort()\n",
    "print(number)"
   ]
  },
  {
   "cell_type": "code",
   "execution_count": 318,
   "id": "727487e3-315b-4efb-be95-be601e4304b7",
   "metadata": {},
   "outputs": [
    {
     "name": "stdout",
     "output_type": "stream",
     "text": [
      "['Tesla', 'Honda', 'Ford', 'Fiat', 'BMW', 'Audi']\n"
     ]
    }
   ],
   "source": [
    "car = [\"Fiat\", \"BMW\", \"Audi\", \"Tesla\", \"Honda\", \"Ford\"]\n",
    "car.sort(reverse = True)\n",
    "print(car)"
   ]
  },
  {
   "cell_type": "code",
   "execution_count": 319,
   "id": "b75d75db-5f7d-486d-9d4d-07300ed631ce",
   "metadata": {},
   "outputs": [
    {
     "name": "stdout",
     "output_type": "stream",
     "text": [
      "[77, 65, 50, 43, 23, 12, 6, 2]\n"
     ]
    }
   ],
   "source": [
    "number = [50,6,23,12,43,65,77,2]\n",
    "number.sort(reverse= True)\n",
    "print(number)"
   ]
  },
  {
   "cell_type": "markdown",
   "id": "a353edf0-8c3b-409b-9746-7d02ef98eea3",
   "metadata": {},
   "source": [
    "### Join Lists"
   ]
  },
  {
   "cell_type": "code",
   "execution_count": 321,
   "id": "c637ffca-21ce-4c36-9586-0ff434d11287",
   "metadata": {},
   "outputs": [
    {
     "name": "stdout",
     "output_type": "stream",
     "text": [
      "['a', 'b', 'c', 'd', 'd', 'e', 'f']\n",
      "['d', 'e', 'f']\n"
     ]
    }
   ],
   "source": [
    "list1 = ['a', 'b', 'c','d']\n",
    "list2 = ['d', 'e', 'f']\n",
    "\n",
    "list1.extend(list2)\n",
    "print(list1)\n",
    "print(list2)"
   ]
  },
  {
   "cell_type": "code",
   "execution_count": 322,
   "id": "24112996-1c03-4a81-acf9-5098c0c3f152",
   "metadata": {},
   "outputs": [
    {
     "name": "stdout",
     "output_type": "stream",
     "text": [
      "['a', 'b', 'c', 'd', 'd', 'e', 'f']\n"
     ]
    }
   ],
   "source": [
    "list1 = ['a', 'b', 'c','d']\n",
    "list2 = ['d', 'e', 'f']\n",
    "\n",
    "for item in list2:\n",
    "    list1.append(item)\n",
    "print(list1)"
   ]
  },
  {
   "cell_type": "code",
   "execution_count": 324,
   "id": "5988ac69-6263-49fd-bab6-036985bda106",
   "metadata": {},
   "outputs": [
    {
     "name": "stdout",
     "output_type": "stream",
     "text": [
      "['a', 'b', 'c']\n",
      "['d', 'e', 'f']\n",
      "['a', 'b', 'c', 'd', 'e', 'f']\n"
     ]
    }
   ],
   "source": [
    "list1 = ['a', 'b', 'c']\n",
    "list2 = ['d', 'e', 'f']\n",
    "\n",
    "list3 = list1 + list2 # Add like a string \n",
    "print(list1)\n",
    "print(list2)\n",
    "print(list3)"
   ]
  },
  {
   "cell_type": "markdown",
   "id": "1042a327-1e7e-4aed-b025-5515b29a6965",
   "metadata": {},
   "source": [
    "# Tuple ()"
   ]
  },
  {
   "cell_type": "markdown",
   "id": "74713943-6233-4133-ab78-a416516625ae",
   "metadata": {},
   "source": [
    "##### Tuple items are ordered, unchangeable, and allow duplicate values.\n",
    "##### Tuple items are indexed, the first item has index [0], the second item has index [1] etc."
   ]
  },
  {
   "cell_type": "code",
   "execution_count": 44,
   "id": "77638794-ac00-477a-bfd6-0458087199ad",
   "metadata": {},
   "outputs": [
    {
     "name": "stdout",
     "output_type": "stream",
     "text": [
      "('Fiat', 'BMW', 'Audi', 'Tesla', 'Honda', 'Ford')\n"
     ]
    }
   ],
   "source": [
    "car = (\"Fiat\", \"BMW\", \"Audi\", \"Tesla\", \"Honda\", \"Ford\")\n",
    "print(car)"
   ]
  },
  {
   "cell_type": "code",
   "execution_count": 45,
   "id": "6d355d91-6429-4688-ad67-de196ecddc13",
   "metadata": {},
   "outputs": [
    {
     "name": "stdout",
     "output_type": "stream",
     "text": [
      "<class 'tuple'>\n"
     ]
    }
   ],
   "source": [
    "print(type(car))"
   ]
  },
  {
   "cell_type": "code",
   "execution_count": 48,
   "id": "72ef9a5c-d900-4677-a849-405939f98032",
   "metadata": {},
   "outputs": [
    {
     "ename": "TypeError",
     "evalue": "'tuple' object does not support item assignment",
     "output_type": "error",
     "traceback": [
      "\u001b[1;31m---------------------------------------------------------------------------\u001b[0m",
      "\u001b[1;31mTypeError\u001b[0m                                 Traceback (most recent call last)",
      "Cell \u001b[1;32mIn[48], line 1\u001b[0m\n\u001b[1;32m----> 1\u001b[0m \u001b[43mcar\u001b[49m\u001b[43m[\u001b[49m\u001b[38;5;241;43m2\u001b[39;49m\u001b[43m]\u001b[49m \u001b[38;5;241m=\u001b[39m \u001b[38;5;124m\"\u001b[39m\u001b[38;5;124mTata\u001b[39m\u001b[38;5;124m\"\u001b[39m\n",
      "\u001b[1;31mTypeError\u001b[0m: 'tuple' object does not support item assignment"
     ]
    }
   ],
   "source": [
    "car[2] = \"Tata\""
   ]
  },
  {
   "cell_type": "markdown",
   "id": "47fa0d47-6b82-47a7-9e1d-ffe70ef0bb45",
   "metadata": {},
   "source": [
    "### You may check the tuple as you check the list"
   ]
  },
  {
   "cell_type": "code",
   "execution_count": 117,
   "id": "d0815a15-bade-4879-882c-760ee611108c",
   "metadata": {},
   "outputs": [],
   "source": [
    "car = (\"Fiat\", \"BMW\", \"Audi\", \"Tesla\", \"Honda\", \"Ford\", \"Fiat\")"
   ]
  },
  {
   "cell_type": "code",
   "execution_count": 118,
   "id": "6e52c5b0-b34f-467b-937d-992b0b94608b",
   "metadata": {},
   "outputs": [
    {
     "name": "stdout",
     "output_type": "stream",
     "text": [
      "('Audi', 'Tesla', 'Honda')\n"
     ]
    }
   ],
   "source": [
    "print(car[2:5])"
   ]
  },
  {
   "cell_type": "code",
   "execution_count": 119,
   "id": "c05b663e-dcb5-4051-9f4f-46a1f63f0d68",
   "metadata": {},
   "outputs": [
    {
     "name": "stdout",
     "output_type": "stream",
     "text": [
      "('Honda', 'Ford', 'Fiat')\n"
     ]
    }
   ],
   "source": [
    "print(car[4:])"
   ]
  },
  {
   "cell_type": "code",
   "execution_count": 120,
   "id": "1fc266fc-948e-4d56-8609-aa634f4989b1",
   "metadata": {},
   "outputs": [
    {
     "name": "stdout",
     "output_type": "stream",
     "text": [
      "('Fiat', 'BMW', 'Audi', 'Tesla')\n"
     ]
    }
   ],
   "source": [
    "print(car[:4])"
   ]
  },
  {
   "cell_type": "code",
   "execution_count": 121,
   "id": "c6285c2e-d6f0-402c-97a1-da87679de4c0",
   "metadata": {},
   "outputs": [
    {
     "name": "stdout",
     "output_type": "stream",
     "text": [
      "('Tesla', 'Honda', 'Ford')\n"
     ]
    }
   ],
   "source": [
    "print(car[-4:-1])"
   ]
  },
  {
   "cell_type": "markdown",
   "id": "f4b466ea-8c03-4462-9dc9-5518c227a14c",
   "metadata": {},
   "source": [
    "### Add and Remove Tuple Items\n",
    "##### Directly not support in tuple "
   ]
  },
  {
   "cell_type": "code",
   "execution_count": 334,
   "id": "1187bf14-9fcc-4d2c-84f6-a844eb77f606",
   "metadata": {},
   "outputs": [
    {
     "name": "stdout",
     "output_type": "stream",
     "text": [
      "('Fiat', 'BMW', 'Audi', 'Tesla', 'Honda', 'Ford', 'Tata')\n"
     ]
    }
   ],
   "source": [
    "# If add any item at first shift in list then add and again shift in tuple\n",
    "car = (\"Fiat\", \"BMW\", \"Audi\", \"Tesla\", \"Honda\", \"Ford\")\n",
    "car = list(car)\n",
    "car.append(\"Tata\")\n",
    "car = tuple(car)\n",
    "\n",
    "print(car)"
   ]
  },
  {
   "cell_type": "code",
   "execution_count": 335,
   "id": "11ba9282-194c-4a38-a6f2-05b3b23d998b",
   "metadata": {},
   "outputs": [
    {
     "name": "stdout",
     "output_type": "stream",
     "text": [
      "('BMW', 'Audi', 'Tesla', 'Honda', 'Ford')\n"
     ]
    }
   ],
   "source": [
    "# If remove any item at first shift in list then remove and again shift in tuple\n",
    "car = (\"Fiat\", \"BMW\", \"Audi\", \"Tesla\", \"Honda\", \"Ford\")\n",
    "car = list(car)\n",
    "car.remove(\"Fiat\")\n",
    "car = tuple(car)\n",
    "\n",
    "print(car)"
   ]
  },
  {
   "cell_type": "code",
   "execution_count": 341,
   "id": "b4b824ed-c8df-42e7-96fa-ddca1661b20c",
   "metadata": {},
   "outputs": [
    {
     "name": "stdout",
     "output_type": "stream",
     "text": [
      "('Fiat', 'BMW', 'Audi', 'Tesla', 'Honda', 'Ford', 'Tata')\n"
     ]
    }
   ],
   "source": [
    "# Add 2 different tuple together \n",
    "car = (\"Fiat\", \"BMW\", \"Audi\", \"Tesla\", \"Honda\", \"Ford\")\n",
    "add = (\"Tata\",) # , means this is a tuple for single item\n",
    "car = car + add\n",
    "\n",
    "print(car)"
   ]
  },
  {
   "cell_type": "markdown",
   "id": "140a9af5-0ba9-410a-8a85-ddbb59a6bd96",
   "metadata": {},
   "source": [
    "# Set {}"
   ]
  },
  {
   "cell_type": "markdown",
   "id": "c0138ddf-0838-4d4e-b91c-d9aa08dfc966",
   "metadata": {},
   "source": [
    "### Set items are unordered, unchangeable, and do not allow duplicate values."
   ]
  },
  {
   "cell_type": "code",
   "execution_count": 364,
   "id": "0a523aaf-982c-49b5-96d2-6719dedbd1f5",
   "metadata": {},
   "outputs": [
    {
     "name": "stdout",
     "output_type": "stream",
     "text": [
      "{'Honda', 'Fiat', 'Ford', 'Audi', 'Tesla', 'BMW'}\n"
     ]
    }
   ],
   "source": [
    "car = {\"Fiat\", \"BMW\", \"Audi\", \"Tesla\", \"Honda\", \"Ford\"}\n",
    "print(car)"
   ]
  },
  {
   "cell_type": "code",
   "execution_count": 365,
   "id": "7fe72d42-5060-43eb-b986-40e442597b64",
   "metadata": {},
   "outputs": [
    {
     "name": "stdout",
     "output_type": "stream",
     "text": [
      "<class 'set'>\n"
     ]
    }
   ],
   "source": [
    "print(type(car))"
   ]
  },
  {
   "cell_type": "code",
   "execution_count": 367,
   "id": "bdc3e42c-db49-4899-ab6d-f46d8189b8f5",
   "metadata": {},
   "outputs": [
    {
     "name": "stdout",
     "output_type": "stream",
     "text": [
      "{'Honda', 'Fiat', 'Ford', 'Audi', 'Tesla', 'BMW'}\n"
     ]
    }
   ],
   "source": [
    "car = {\"Fiat\", \"BMW\", \"Audi\", \"Tesla\", \"Honda\", \"Ford\", \"Fiat\"}\n",
    "print(car)"
   ]
  },
  {
   "cell_type": "code",
   "execution_count": 368,
   "id": "8381db84-85dd-44ef-ba9c-a93275978506",
   "metadata": {},
   "outputs": [
    {
     "name": "stdout",
     "output_type": "stream",
     "text": [
      "6\n"
     ]
    }
   ],
   "source": [
    "car = {\"Fiat\", \"BMW\", \"Audi\", \"Tesla\", \"Honda\", \"Ford\", \"Fiat\"}\n",
    "print(len(car))"
   ]
  },
  {
   "cell_type": "code",
   "execution_count": 369,
   "id": "072e8623-5dbc-491e-a4b5-b389b875ad9d",
   "metadata": {},
   "outputs": [
    {
     "name": "stdout",
     "output_type": "stream",
     "text": [
      "{'Honda', 'Fiat', 'Ford', 'Tesla', 'BMW', 'Audi'}\n"
     ]
    }
   ],
   "source": [
    "#Use set() function\n",
    "car = set((\"Fiat\", \"BMW\", \"Audi\", \"Tesla\", \"Honda\", \"Ford\", \"Fiat\"))\n",
    "print(car)"
   ]
  },
  {
   "cell_type": "markdown",
   "id": "89e4b367-4b83-41e3-a15d-eb29961145a6",
   "metadata": {},
   "source": [
    "### Access Set Items"
   ]
  },
  {
   "cell_type": "code",
   "execution_count": 371,
   "id": "f3246777-31eb-4e3a-84a7-a9a56ea08ba9",
   "metadata": {},
   "outputs": [
    {
     "name": "stdout",
     "output_type": "stream",
     "text": [
      "Honda\n",
      "Fiat\n",
      "Ford\n",
      "Audi\n",
      "Tesla\n",
      "BMW\n"
     ]
    }
   ],
   "source": [
    "car = {\"Fiat\", \"BMW\", \"Audi\", \"Tesla\", \"Honda\", \"Ford\", \"Fiat\"}\n",
    "for x in car:\n",
    "    print(x)"
   ]
  },
  {
   "cell_type": "code",
   "execution_count": 372,
   "id": "7b0969a8-9901-4474-871c-517fc88973e9",
   "metadata": {},
   "outputs": [
    {
     "name": "stdout",
     "output_type": "stream",
     "text": [
      "True\n"
     ]
    }
   ],
   "source": [
    "car = {\"Fiat\", \"BMW\", \"Audi\", \"Tesla\", \"Honda\", \"Ford\", \"Fiat\"}\n",
    "print(\"Fiat\" in car)"
   ]
  },
  {
   "cell_type": "markdown",
   "id": "00643042-1434-4f4f-8728-43eae853f9ca",
   "metadata": {},
   "source": [
    "### List/Tuple/Set application"
   ]
  },
  {
   "cell_type": "code",
   "execution_count": 374,
   "id": "65d1e7a3-228d-4b87-91a5-7f8ea218910f",
   "metadata": {},
   "outputs": [
    {
     "name": "stdout",
     "output_type": "stream",
     "text": [
      "['Honda', 'Fiat', 'Ford', 'Tesla', 'BMW', 'Audi']\n"
     ]
    }
   ],
   "source": [
    "car = [\"Fiat\", \"BMW\", \"Audi\", \"Tesla\", \"Honda\", \"Ford\", \"Fiat\", \"Ford\", \"Tesla\", \"Tesla\"]\n",
    "car = set(car)\n",
    "car = list(car)\n",
    "\n",
    "print(car)"
   ]
  },
  {
   "cell_type": "code",
   "execution_count": 375,
   "id": "8a292045-8558-41a9-82a4-0d111701b776",
   "metadata": {},
   "outputs": [
    {
     "name": "stdout",
     "output_type": "stream",
     "text": [
      "['Fiat', 'BMW', 'Audi', 'Tesla', 'Honda', 'Ford', 'Fiat', 'Ford', 'Tesla', 'Tesla']\n",
      "('Fiat', 'BMW', 'Audi', 'Tesla', 'Honda', 'Ford', 'Fiat', 'Ford', 'Tesla', 'Tesla')\n",
      "{'Honda', 'Fiat', 'Ford', 'Tesla', 'BMW', 'Audi'}\n"
     ]
    }
   ],
   "source": [
    "car = [\"Fiat\", \"BMW\", \"Audi\", \"Tesla\", \"Honda\", \"Ford\", \"Fiat\", \"Ford\", \"Tesla\", \"Tesla\"]\n",
    "car = list(car)\n",
    "print(car)\n",
    "car = tuple(car) \n",
    "print(car)\n",
    "car = set(car)\n",
    "print(car)"
   ]
  },
  {
   "cell_type": "markdown",
   "id": "f11fb07e-2567-4388-ae71-d04f25210447",
   "metadata": {},
   "source": [
    "### Add Set Items"
   ]
  },
  {
   "cell_type": "code",
   "execution_count": 376,
   "id": "8b6be220-7a15-4497-8474-f839a27b28bb",
   "metadata": {},
   "outputs": [
    {
     "name": "stdout",
     "output_type": "stream",
     "text": [
      "{'Tata', 'Honda', 'Fiat', 'Ford', 'Audi', 'Tesla', 'BMW'}\n"
     ]
    }
   ],
   "source": [
    "car = {\"Fiat\", \"BMW\", \"Audi\", \"Tesla\", \"Honda\", \"Ford\", \"Fiat\"}\n",
    "car.add(\"Tata\")\n",
    "print(car)"
   ]
  },
  {
   "cell_type": "code",
   "execution_count": 378,
   "id": "1d5f7128-992a-4d37-bcc9-51cbb1fcadaf",
   "metadata": {},
   "outputs": [
    {
     "name": "stdout",
     "output_type": "stream",
     "text": [
      "{'Honda', 'Fiat', 'Ford', 'Audi', 'Tesla', 'BMW'}\n",
      "{'Honda', 'Fiat', 'Ford', 'Tesla'}\n"
     ]
    }
   ],
   "source": [
    "car1 = {\"Fiat\", \"BMW\", \"Audi\"}\n",
    "car2 = {\"Tesla\", \"Honda\", \"Ford\", \"Fiat\"}\n",
    "\n",
    "car1.update(car2) # merge 2 set in car1\n",
    "print(car1)\n",
    "print(car2)"
   ]
  },
  {
   "cell_type": "code",
   "execution_count": 383,
   "id": "6c85c5ca-0232-481d-9993-0a8986f0386a",
   "metadata": {},
   "outputs": [
    {
     "name": "stdout",
     "output_type": "stream",
     "text": [
      "{'Honda', 'Ford', 'Tesla'}\n"
     ]
    }
   ],
   "source": [
    "shop1 = {\"Tesla\", \"Honda\", \"Ford\", \"Fiat\"}\n",
    "shop2 = {\"Fiat\", \"BMW\", \"Audi\"}\n",
    "\n",
    "diff = shop1 - shop2\n",
    "print(diff)"
   ]
  },
  {
   "cell_type": "code",
   "execution_count": 381,
   "id": "f0c52990-cfba-49ca-acfe-3ec3b0b86bc7",
   "metadata": {},
   "outputs": [
    {
     "name": "stdout",
     "output_type": "stream",
     "text": [
      "{'Fiat'}\n",
      "{'Honda', 'Fiat', 'Ford', 'Tesla'}\n",
      "{'BMW', 'Fiat', 'Audi'}\n"
     ]
    }
   ],
   "source": [
    "shop1 = {\"Tesla\", \"Honda\", \"Ford\", \"Fiat\"}\n",
    "shop2 = {\"Fiat\", \"BMW\", \"Audi\"}\n",
    "\n",
    "inter = shop1.intersection(shop2) # common\n",
    "print(inter)\n",
    "print(shop1)\n",
    "print(shop2)"
   ]
  },
  {
   "cell_type": "code",
   "execution_count": 384,
   "id": "3d973e72-26cf-4291-bf0e-dc830970604a",
   "metadata": {},
   "outputs": [
    {
     "name": "stdout",
     "output_type": "stream",
     "text": [
      "{'Honda', 'Fiat', 'Ford', 'Audi', 'Tesla', 'BMW'}\n",
      "{'Honda', 'Fiat', 'Ford', 'Tesla'}\n",
      "{'BMW', 'Fiat', 'Audi'}\n"
     ]
    }
   ],
   "source": [
    "shop1 = {\"Tesla\", \"Honda\", \"Ford\", \"Fiat\"}\n",
    "shop2 = {\"Fiat\", \"BMW\", \"Audi\"}\n",
    "\n",
    "inter = shop1.union(shop2) # common and all\n",
    "print(inter)\n",
    "print(shop1)\n",
    "print(shop2)"
   ]
  },
  {
   "cell_type": "markdown",
   "id": "25df2954-7e93-4200-9dbc-3b6e95e38758",
   "metadata": {},
   "source": [
    "# Dictionaries { \" \" : \" \" }"
   ]
  },
  {
   "cell_type": "markdown",
   "id": "ccbfef07-b2ce-4210-bbb4-53a9c7f75792",
   "metadata": {},
   "source": [
    "##### Here, the key is \"brand\", \"model\", \"year\" and the value is \"Ford\", \"Mustang\", and 1964\n",
    "##### Dictionary is ordered and changeable"
   ]
  },
  {
   "cell_type": "code",
   "execution_count": 386,
   "id": "39166850-3e42-42ee-86cc-096e5ab20bff",
   "metadata": {},
   "outputs": [
    {
     "name": "stdout",
     "output_type": "stream",
     "text": [
      "{'Brand': 'Ford', 'Model': 'Mustang', 'Year': 1964}\n"
     ]
    }
   ],
   "source": [
    "car = {\n",
    "    \"Brand\" : \"Ford\",\n",
    "    \"Model\" : \"Mustang\",\n",
    "    \"Year\" : 1964\n",
    "}\n",
    "print(car)"
   ]
  },
  {
   "cell_type": "code",
   "execution_count": 411,
   "id": "dd2b4f5e-4559-4874-98fd-162b7f4ae9a5",
   "metadata": {},
   "outputs": [
    {
     "name": "stdout",
     "output_type": "stream",
     "text": [
      "<class 'dict'>\n",
      "<class 'str'>\n",
      "<class 'int'>\n"
     ]
    }
   ],
   "source": [
    "print(type(car))\n",
    "print(type(car[\"Brand\"]))\n",
    "print(type(car[\"Year\"]))"
   ]
  },
  {
   "cell_type": "code",
   "execution_count": 388,
   "id": "ea52ff5d-e7a7-4f91-83b6-d092b316b116",
   "metadata": {},
   "outputs": [
    {
     "name": "stdout",
     "output_type": "stream",
     "text": [
      "3\n"
     ]
    }
   ],
   "source": [
    "print(len(car))"
   ]
  },
  {
   "cell_type": "code",
   "execution_count": 392,
   "id": "590c81f2-9e1c-426a-9f0a-31643b6428e1",
   "metadata": {},
   "outputs": [
    {
     "name": "stdout",
     "output_type": "stream",
     "text": [
      "Ford\n",
      "Mustang\n",
      "1964\n"
     ]
    }
   ],
   "source": [
    "car = {\n",
    "    \"Brand\" : \"Ford\",\n",
    "    \"Model\" : \"Mustang\",\n",
    "    \"Year\" : 1964\n",
    "}\n",
    "\n",
    "print(car[\"Brand\"])\n",
    "print(car[\"Model\"])\n",
    "print(car[\"Year\"])"
   ]
  },
  {
   "cell_type": "code",
   "execution_count": 393,
   "id": "03659cb9-8c1f-4db2-b466-1d0f8be88f93",
   "metadata": {},
   "outputs": [
    {
     "name": "stdout",
     "output_type": "stream",
     "text": [
      "dict_keys(['Brand', 'Model', 'Year'])\n"
     ]
    }
   ],
   "source": [
    "car = {\n",
    "    \"Brand\" : \"Ford\",\n",
    "    \"Model\" : \"Mustang\",\n",
    "    \"Year\" : 1964\n",
    "}\n",
    "print(car.keys())"
   ]
  },
  {
   "cell_type": "code",
   "execution_count": 394,
   "id": "ec6d6046-faae-41e6-a529-deea67f8ff5a",
   "metadata": {},
   "outputs": [
    {
     "name": "stdout",
     "output_type": "stream",
     "text": [
      "dict_values(['Ford', 'Mustang', 1964])\n"
     ]
    }
   ],
   "source": [
    "car = {\n",
    "    \"Brand\" : \"Ford\",\n",
    "    \"Model\" : \"Mustang\",\n",
    "    \"Year\" : 1964\n",
    "}\n",
    "print(car.values())"
   ]
  },
  {
   "cell_type": "code",
   "execution_count": 395,
   "id": "ae260512-e32a-434e-a6ab-822321b76da2",
   "metadata": {},
   "outputs": [
    {
     "name": "stdout",
     "output_type": "stream",
     "text": [
      "dict_items([('Brand', 'Ford'), ('Model', 'Mustang'), ('Year', 1964)])\n"
     ]
    }
   ],
   "source": [
    "car = {\n",
    "    \"Brand\" : \"Ford\",\n",
    "    \"Model\" : \"Mustang\",\n",
    "    \"Year\" : 1964\n",
    "}\n",
    "print(car.items())"
   ]
  },
  {
   "cell_type": "code",
   "execution_count": 401,
   "id": "45ae0b3e-9e42-483b-b599-ec31724c0a08",
   "metadata": {},
   "outputs": [
    {
     "name": "stdout",
     "output_type": "stream",
     "text": [
      "{'Brand': 'Ford', 'Model': 'Mustang', 'Year': 1964}\n",
      "{'Brand': 'Fiat', 'Model': 'Mustang', 'Year': 2024}\n"
     ]
    }
   ],
   "source": [
    "# Replace value \n",
    "car = {\n",
    "    \"Brand\" : \"Ford\",\n",
    "    \"Model\" : \"Mustang\",\n",
    "    \"Year\" : 1964\n",
    "}\n",
    "print(car)\n",
    "car[\"Brand\"] = \"Fiat\"\n",
    "car[\"Year\"] = 2024\n",
    "print(car)"
   ]
  },
  {
   "cell_type": "code",
   "execution_count": 403,
   "id": "09b73a94-7aa4-401a-8730-d5d984a5949f",
   "metadata": {},
   "outputs": [
    {
     "name": "stdout",
     "output_type": "stream",
     "text": [
      "{'Brand': 'Ford', 'Model': 'Mustang', 'Year': 1964}\n",
      "{'Brand': 'Ford', 'Model': 'Mustang', 'Year': 1964, 'Color': 'Blue'}\n"
     ]
    }
   ],
   "source": [
    "car = {\n",
    "    \"Brand\" : \"Ford\",\n",
    "    \"Model\" : \"Mustang\",\n",
    "    \"Year\" : 1964\n",
    "}\n",
    "print(car)\n",
    "car[\"Color\"] = \"Blue\"\n",
    "print(car)"
   ]
  },
  {
   "cell_type": "code",
   "execution_count": 404,
   "id": "6b058319-7cf0-4caa-bf19-acce68aa72fc",
   "metadata": {},
   "outputs": [
    {
     "name": "stdout",
     "output_type": "stream",
     "text": [
      "{'Brand': 'Ford', 'Model': 'Mustang', 'Year': 1964}\n",
      "{'Brand': 'Ford', 'Model': 'Mustang', 'Year': 1964, 'Color': 'Black'}\n"
     ]
    }
   ],
   "source": [
    "car = {\n",
    "    \"Brand\" : \"Ford\",\n",
    "    \"Model\" : \"Mustang\",\n",
    "    \"Year\" : 1964\n",
    "}\n",
    "\n",
    "print(car)\n",
    "car.update({\"Color\": \"Black\"})\n",
    "print(car)"
   ]
  },
  {
   "cell_type": "code",
   "execution_count": 405,
   "id": "4a424bef-193a-4c62-84a4-e61b1cbce9a5",
   "metadata": {},
   "outputs": [
    {
     "name": "stdout",
     "output_type": "stream",
     "text": [
      "{'Brand': 'Ford', 'Model': 'Mustang', 'Year': 1964}\n",
      "{'Brand': 'Ford', 'Year': 1964}\n"
     ]
    }
   ],
   "source": [
    "car = {\n",
    "    \"Brand\" : \"Ford\",\n",
    "    \"Model\" : \"Mustang\",\n",
    "    \"Year\" : 1964\n",
    "}\n",
    "print(car)\n",
    "car.pop(\"Model\")\n",
    "print(car)"
   ]
  },
  {
   "cell_type": "code",
   "execution_count": 407,
   "id": "09f73463-cc57-49ae-b398-073b13695242",
   "metadata": {},
   "outputs": [
    {
     "name": "stdout",
     "output_type": "stream",
     "text": [
      "{'Brand': 'Ford', 'Model': 'Mustang', 'Year': 1964}\n",
      "{'Brand': 'Ford', 'Model': 'Mustang'}\n"
     ]
    }
   ],
   "source": [
    "car = {\n",
    "    \"Brand\" : \"Ford\",\n",
    "    \"Model\" : \"Mustang\",\n",
    "    \"Year\" : 1964\n",
    "}\n",
    "print(car)\n",
    "car.popitem()\n",
    "print(car)"
   ]
  },
  {
   "cell_type": "code",
   "execution_count": 408,
   "id": "e0a81271-2024-4c08-a7a3-73476bbed94e",
   "metadata": {},
   "outputs": [
    {
     "name": "stdout",
     "output_type": "stream",
     "text": [
      "{'Brand': 'Ford', 'Model': 'Mustang', 'Year': 1964}\n",
      "{'Model': 'Mustang', 'Year': 1964}\n"
     ]
    }
   ],
   "source": [
    "car = {\n",
    "    \"Brand\" : \"Ford\",\n",
    "    \"Model\" : \"Mustang\",\n",
    "    \"Year\" : 1964\n",
    "}\n",
    "print(car)\n",
    "del car[\"Brand\"] # For Delete Use del function\n",
    "print(car)"
   ]
  },
  {
   "cell_type": "markdown",
   "id": "35e02253-5e02-43d3-903c-79000d07449f",
   "metadata": {},
   "source": [
    "### Nested Dictionaries and Lists"
   ]
  },
  {
   "cell_type": "code",
   "execution_count": 412,
   "id": "f7d392a8-3c88-4b1a-8264-349adb15bc35",
   "metadata": {},
   "outputs": [],
   "source": [
    "student = {\n",
    "    \"Asif\": {\"Class\": 12, \"Major\": \"CSE\", \"Section\": \"A\"},\n",
    "    \"Dipon\": {\"Class\": 12, \"Major\": \"EEE\", \"Section\": \"B\"}\n",
    "}"
   ]
  },
  {
   "cell_type": "code",
   "execution_count": 413,
   "id": "09c84d6f-7f5f-4c55-aa4b-888c3905dbc7",
   "metadata": {},
   "outputs": [
    {
     "name": "stdout",
     "output_type": "stream",
     "text": [
      "<class 'dict'>\n"
     ]
    }
   ],
   "source": [
    "print(type(student[\"Dipon\"]))"
   ]
  },
  {
   "cell_type": "code",
   "execution_count": 414,
   "id": "a41b6a05-9261-4ffb-bfdc-fe317abc90be",
   "metadata": {},
   "outputs": [
    {
     "name": "stdout",
     "output_type": "stream",
     "text": [
      "A\n"
     ]
    }
   ],
   "source": [
    "print(student[\"Asif\"][\"Section\"])"
   ]
  },
  {
   "cell_type": "code",
   "execution_count": 417,
   "id": "bb4b793f-3f47-4a67-800d-2d3a2cb730da",
   "metadata": {},
   "outputs": [
    {
     "name": "stdout",
     "output_type": "stream",
     "text": [
      "{'Asif': {'Class': 12, 'Major': 'CSE', 'Section': 'A'}, 'Dipon': {'Class': 12, 'Major': 'EEE', 'Section': 'B'}, 'Tomal': [12, 'ME', 'C']}\n"
     ]
    }
   ],
   "source": [
    "student = {\n",
    "    \"Asif\": {\"Class\": 12, \"Major\": \"CSE\", \"Section\": \"A\"},\n",
    "    \"Dipon\": {\"Class\": 12, \"Major\": \"EEE\", \"Section\": \"B\"},\n",
    "    \"Tomal\": [12, \"ME\", \"C\"]\n",
    "}\n",
    "print(student)"
   ]
  },
  {
   "cell_type": "code",
   "execution_count": 418,
   "id": "ea477b03-5192-400c-a7b3-7007bb91980d",
   "metadata": {},
   "outputs": [
    {
     "name": "stdout",
     "output_type": "stream",
     "text": [
      "<class 'dict'>\n",
      "<class 'list'>\n"
     ]
    }
   ],
   "source": [
    "print( type(student[\"Asif\"]))\n",
    "print( type(student[\"Tomal\"]))"
   ]
  },
  {
   "cell_type": "code",
   "execution_count": 419,
   "id": "9e804881-25a8-410a-9043-eb18c5248dac",
   "metadata": {},
   "outputs": [
    {
     "name": "stdout",
     "output_type": "stream",
     "text": [
      "ME\n",
      "12\n"
     ]
    }
   ],
   "source": [
    "print(student[\"Tomal\"] [1])\n",
    "print(student[\"Tomal\"] [0])"
   ]
  },
  {
   "cell_type": "code",
   "execution_count": 420,
   "id": "76088810-176b-48bf-959f-62a731d584a0",
   "metadata": {},
   "outputs": [],
   "source": [
    "info = {\n",
    "  \"first_name\": \"John\",\n",
    "  \"last_name\": \"Smith\",\n",
    "  \"is_alive\": True,\n",
    "  \"age\": 27,\n",
    "  \"address\": {\n",
    "    \"street_address\": \"21 2nd Street\",\n",
    "    \"city\": \"New York\",\n",
    "    \"state\": \"NY\",\n",
    "    \"postal_code\": \"10021-3100\"\n",
    "  },\n",
    "  \"phone_numbers\": [\n",
    "    {\n",
    "      \"type\": \"home\",\n",
    "      \"number\": \"212 555-1234\"\n",
    "    },\n",
    "    {\n",
    "      \"type\": \"office\",\n",
    "      \"number\": \"646 555-4567\"\n",
    "    }\n",
    "  ],\n",
    "  \"children\": [ \"Catherine\", \"Thomas\", \"Trevor\"],\n",
    "  \"spouse\": None\n",
    "}"
   ]
  },
  {
   "cell_type": "code",
   "execution_count": 426,
   "id": "a7c21ccd-31b4-4f79-8b5c-8916f6f8e4cb",
   "metadata": {},
   "outputs": [
    {
     "name": "stdout",
     "output_type": "stream",
     "text": [
      "{'first_name': 'John', 'last_name': 'Smith', 'is_alive': True, 'age': 27, 'address': {'street_address': '21 2nd Street', 'city': 'New York', 'state': 'NY', 'postal_code': '10021-3100'}, 'phone_numbers': [{'type': 'home', 'number': '212 555-1234'}, {'type': 'office', 'number': '646 555-4567'}], 'children': ['Catherine', 'Thomas', 'Trevor'], 'spouse': None}\n",
      "646 555-4567\n",
      "<class 'dict'>\n"
     ]
    }
   ],
   "source": [
    "print(info)\n",
    "print(info[\"phone_numbers\"][1][\"number\"])\n",
    "print(type(info))"
   ]
  },
  {
   "cell_type": "code",
   "execution_count": 427,
   "id": "b146ee00-de97-461a-a18f-509510db2221",
   "metadata": {},
   "outputs": [
    {
     "name": "stdout",
     "output_type": "stream",
     "text": [
      "{'first_name': 'John', 'last_name': 'Smith', 'is_alive': True, 'age': 27, 'address': {'street_address': '21 2nd Street', 'city': 'New York', 'state': 'NY', 'postal_code': '10021-3100'}, 'phone_numbers': [{'type': 'home', 'number': '212 555-1234'}, {'type': 'office', 'number': '646 555-4567'}], 'children': ['Asif', 'Urmi', 'Arafat'], 'spouse': None}\n"
     ]
    }
   ],
   "source": [
    "# Replace \n",
    "info[\"children\"][0] = \"Asif\"\n",
    "info[\"children\"][1] = \"Urmi\"\n",
    "info[\"children\"][2] = \"Arafat\"\n",
    "print(info)"
   ]
  },
  {
   "cell_type": "markdown",
   "id": "17c28a1d-a066-41e8-9d9e-6464c9856d46",
   "metadata": {},
   "source": [
    "# If ... Else\n",
    "\n",
    "#### if (condition):\n",
    "#### &emsp; Code"
   ]
  },
  {
   "cell_type": "code",
   "execution_count": 428,
   "id": "cdfcfaeb-5adc-4e4b-98f3-0ee8974a38e1",
   "metadata": {},
   "outputs": [
    {
     "name": "stdout",
     "output_type": "stream",
     "text": [
      "a is greater than b\n"
     ]
    }
   ],
   "source": [
    "a = 7\n",
    "b = 5\n",
    "\n",
    "if a>b:\n",
    "    print(\"a is greater than b\")"
   ]
  },
  {
   "cell_type": "markdown",
   "id": "6a65b328-d1b1-4ebc-90d4-9c9b487062ab",
   "metadata": {},
   "source": [
    "### Indentation is important"
   ]
  },
  {
   "cell_type": "code",
   "execution_count": 435,
   "id": "1744915f-15fa-4fd1-80de-b93b921e0a2a",
   "metadata": {},
   "outputs": [
    {
     "name": "stdout",
     "output_type": "stream",
     "text": [
      "This is outside if Block\n"
     ]
    }
   ],
   "source": [
    "a = 5\n",
    "b = 7\n",
    "\n",
    "if a>b:\n",
    "    print(\"a is greater than b\")\n",
    "    print(\"Hello World\")\n",
    "\n",
    "print(\"This is outside if Block\")"
   ]
  },
  {
   "cell_type": "code",
   "execution_count": 56,
   "id": "b6de78b3-e122-4a94-a84c-cf51e4a48bc5",
   "metadata": {},
   "outputs": [
    {
     "name": "stdout",
     "output_type": "stream",
     "text": [
      "b is greater than a\n"
     ]
    }
   ],
   "source": [
    "a = 5\n",
    "b = 7\n",
    "\n",
    "if a>b:\n",
    "    print(\"a is greater than b\")\n",
    "else:\n",
    "    print(\"b is greater than a\")"
   ]
  },
  {
   "cell_type": "code",
   "execution_count": 438,
   "id": "6ed3da38-ac08-49d3-b146-92b36a458b04",
   "metadata": {},
   "outputs": [
    {
     "name": "stdout",
     "output_type": "stream",
     "text": [
      "a is greater than b\n"
     ]
    }
   ],
   "source": [
    "a = 9\n",
    "b = 7\n",
    "\n",
    "if a>b:\n",
    "    print(\"a is greater than b\")\n",
    "elif a == b:\n",
    "    print(\"a is equal to b\")\n",
    "else:\n",
    "    print(\"b is greater than a\")"
   ]
  },
  {
   "cell_type": "markdown",
   "id": "ff4d8de1-d458-4ac3-b32a-ae8f4609b4a4",
   "metadata": {},
   "source": [
    "### We can write the statement in different way."
   ]
  },
  {
   "cell_type": "code",
   "execution_count": 441,
   "id": "0ea5d9e6-1282-4b26-b949-0467dbf70dd6",
   "metadata": {},
   "outputs": [
    {
     "name": "stdout",
     "output_type": "stream",
     "text": [
      "b is greater than a\n"
     ]
    }
   ],
   "source": [
    "a = 5\n",
    "b = 7\n",
    "\n",
    "if a>b:\n",
    "    print(\"a is greater than b\")\n",
    "else:\n",
    "    print(\"b is greater than a\")"
   ]
  },
  {
   "cell_type": "code",
   "execution_count": 443,
   "id": "afcb092b-bc2a-4faa-aa6c-ffb9765102a4",
   "metadata": {},
   "outputs": [
    {
     "name": "stdout",
     "output_type": "stream",
     "text": [
      "b is greater than a\n"
     ]
    }
   ],
   "source": [
    "# Shortcut one line code\n",
    "a = 5\n",
    "b = 7\n",
    "print(\"a is greater than b\") if a>b else print(\"b is greater than a\")"
   ]
  },
  {
   "cell_type": "markdown",
   "id": "53e0e6ac-7e55-4782-a99b-ac871c51f7f2",
   "metadata": {},
   "source": [
    "### We can use and/or/not operation.\n",
    "\n",
    "False and False = False <br>\n",
    "False and True = False <br>\n",
    "True and False = False <br>\n",
    "True and True = True <br>\n",
    "\n",
    "False or False = False <br>\n",
    "False or True = True <br>\n",
    "True or False = True <br>\n",
    "True or True = True <br>"
   ]
  },
  {
   "cell_type": "code",
   "execution_count": 444,
   "id": "7f606638-4f7b-4e92-9b83-454b49b8a144",
   "metadata": {},
   "outputs": [
    {
     "name": "stdout",
     "output_type": "stream",
     "text": [
      "a is the largest number\n"
     ]
    }
   ],
   "source": [
    "a = 100\n",
    "b = 27\n",
    "c = 50\n",
    "\n",
    "if a>b and a>c:\n",
    "    print(\"a is the largest number\")\n",
    "elif b>a and b>c:\n",
    "    print(\"b is the largest number\")\n",
    "else:\n",
    "    print(\"c is the largest\")"
   ]
  },
  {
   "cell_type": "markdown",
   "id": "533f7eb6-748a-4d47-8478-4ff369bc3934",
   "metadata": {},
   "source": [
    "### Nested IF"
   ]
  },
  {
   "cell_type": "code",
   "execution_count": 450,
   "id": "46a7f4f7-93b3-499a-aff8-bbe5221bb925",
   "metadata": {},
   "outputs": [
    {
     "name": "stdout",
     "output_type": "stream",
     "text": [
      "You are selected for the Head of the Department\n"
     ]
    }
   ],
   "source": [
    "city = \"Chittagong\"\n",
    "graduation = True\n",
    "experienced = True\n",
    "publication = 10\n",
    "\n",
    "if city == \"Chittagong\":\n",
    "    if graduation:\n",
    "        if experienced:\n",
    "            if publication > 5:\n",
    "                print(\"You are selected for the Head of the Department\")\n",
    "            else:\n",
    "                print(\"You are selected for the Senior post\")\n",
    "                \n",
    "        else:\n",
    "            print(\"You are selected for the Junior post\")\n",
    "    else:\n",
    "        print(\"You are not selected for the post\")\n",
    "else:\n",
    "    print(\"You are not selected for the post because of the city\")"
   ]
  },
  {
   "cell_type": "markdown",
   "id": "e6b28c36-af03-4c1c-9efd-0fbc8147a157",
   "metadata": {},
   "source": [
    "# Python Loop"
   ]
  },
  {
   "cell_type": "code",
   "execution_count": 77,
   "id": "fc4192f9-5591-4d4b-8eb1-f7a956070997",
   "metadata": {},
   "outputs": [
    {
     "name": "stdout",
     "output_type": "stream",
     "text": [
      "<class 'range'>\n"
     ]
    }
   ],
   "source": [
    "print(type(range(1,10)))"
   ]
  },
  {
   "cell_type": "code",
   "execution_count": 79,
   "id": "6b552b80-5fe9-4084-86ac-70d51de961b1",
   "metadata": {},
   "outputs": [
    {
     "name": "stdout",
     "output_type": "stream",
     "text": [
      "3\n",
      "4\n",
      "5\n",
      "6\n",
      "7\n",
      "8\n",
      "9\n"
     ]
    }
   ],
   "source": [
    "for i in range(3,10):\n",
    "    print(i)"
   ]
  },
  {
   "cell_type": "code",
   "execution_count": 456,
   "id": "f34c4ebf-422e-4e38-88ae-a7a5b7e19897",
   "metadata": {},
   "outputs": [
    {
     "name": "stdout",
     "output_type": "stream",
     "text": [
      "Hello World\n",
      "Hello World\n",
      "Hello World\n",
      "Hello World\n",
      "Hello World\n",
      "Hello World\n",
      "Hello World\n",
      "Hello World\n",
      "Hello World\n",
      "Hello World\n"
     ]
    }
   ],
   "source": [
    "for i in range(1, 11): # or for i in range(0, 10)\n",
    "    print(\"Hello World\")"
   ]
  },
  {
   "cell_type": "code",
   "execution_count": 467,
   "id": "cf81c574-4be1-4122-904b-e462c848af01",
   "metadata": {},
   "outputs": [
    {
     "name": "stdout",
     "output_type": "stream",
     "text": [
      "0\n",
      "5\n",
      "10\n",
      "15\n",
      "20\n",
      "25\n",
      "30\n"
     ]
    }
   ],
   "source": [
    "for i in range(0, 31, 5):\n",
    "    print(i)"
   ]
  },
  {
   "cell_type": "code",
   "execution_count": 468,
   "id": "0961d5ce-bcf6-47ad-bd58-c57864053acf",
   "metadata": {},
   "outputs": [
    {
     "name": "stdout",
     "output_type": "stream",
     "text": [
      "30\n",
      "26\n",
      "22\n",
      "18\n",
      "14\n",
      "10\n",
      "6\n",
      "2\n"
     ]
    }
   ],
   "source": [
    "for i in range(30, 1, -4):\n",
    "    print(i)"
   ]
  },
  {
   "cell_type": "code",
   "execution_count": 473,
   "id": "9e92b598-0b84-4194-83d6-91c8360d0d71",
   "metadata": {},
   "outputs": [
    {
     "name": "stdout",
     "output_type": "stream",
     "text": [
      "1\n",
      "-2\n",
      "-5\n",
      "-8\n"
     ]
    }
   ],
   "source": [
    "for i in range(1, -10, -3): \n",
    "    print(i)"
   ]
  },
  {
   "cell_type": "code",
   "execution_count": 474,
   "id": "b0c21761-8afa-4083-98bd-1a0d2a6d2fd1",
   "metadata": {},
   "outputs": [
    {
     "name": "stdout",
     "output_type": "stream",
     "text": [
      "U\n",
      "r\n",
      "m\n",
      "i\n",
      " \n",
      "K\n",
      "a\n",
      "r\n",
      "m\n",
      "a\n",
      "k\n",
      "a\n",
      "r\n"
     ]
    }
   ],
   "source": [
    "name = \"Urmi Karmakar\"\n",
    "for i in range(0, len(name)):   ## range(0, 10)\n",
    "    print(name[i])"
   ]
  },
  {
   "cell_type": "markdown",
   "id": "00f78983-0cdc-431b-96de-131884438f6d",
   "metadata": {},
   "source": [
    "### Combine Condition with Loop"
   ]
  },
  {
   "cell_type": "markdown",
   "id": "bfe88d81-769f-4ed8-9e25-3d6bcb9674f5",
   "metadata": {},
   "source": [
    "### players = [\"Sakib\", \"Tamim\", \"Mushfiq\", \"Liton\", \"Soummo\", \"Taskin\"]\n",
    "\n",
    "name = \"Liton\"\n",
    "\n",
    "for player in players:\n",
    " #print(player)\n",
    "    if name == player:\n",
    "        print(\"You are selected\")"
   ]
  },
  {
   "cell_type": "code",
   "execution_count": 491,
   "id": "bac12e97-f973-431b-94da-2703d4c30c2a",
   "metadata": {},
   "outputs": [
    {
     "name": "stdout",
     "output_type": "stream",
     "text": [
      "You are selected\n"
     ]
    }
   ],
   "source": [
    "players = [\"Sakib\", \"Tamim\", \"Mushfiq\", \"Liton\", \"Soummo\", \"Taskin\"]\n",
    "\n",
    "name = \"Tamim\"\n",
    "flag = False\n",
    "\n",
    "for player in players:\n",
    "    if name == player:\n",
    "        print(\"You are selected\")\n",
    "        flag = True\n",
    "\n",
    "\n",
    "if flag == False:\n",
    "    print(\"You are not selected\")"
   ]
  },
  {
   "cell_type": "markdown",
   "id": "58b07579-e866-4d03-8140-0f24690ad47c",
   "metadata": {},
   "source": [
    "### Nested For Loop"
   ]
  },
  {
   "cell_type": "code",
   "execution_count": 493,
   "id": "c3795be5-6a3b-4a01-91d6-51a2056efbd9",
   "metadata": {},
   "outputs": [
    {
     "name": "stdout",
     "output_type": "stream",
     "text": [
      "Tamim\n",
      "T\n",
      "a\n",
      "m\n",
      "i\n",
      "m\n",
      "Mushfiq\n",
      "M\n",
      "u\n",
      "s\n",
      "h\n",
      "f\n",
      "i\n",
      "q\n"
     ]
    }
   ],
   "source": [
    "players = [\"Tamim\", \"Mushfiq\"]\n",
    "\n",
    "for player in players:\n",
    "    print(player)\n",
    "    for char in player:\n",
    "        print(char)"
   ]
  },
  {
   "cell_type": "code",
   "execution_count": 495,
   "id": "bbfd5212-ff4f-4a15-9684-9e71e6738fda",
   "metadata": {},
   "outputs": [
    {
     "name": "stdout",
     "output_type": "stream",
     "text": [
      "1 * 1 = 1\n",
      "1 * 2 = 2\n",
      "1 * 3 = 3\n",
      "1 * 4 = 4\n",
      "1 * 5 = 5\n",
      "1 * 6 = 6\n",
      "1 * 7 = 7\n",
      "1 * 8 = 8\n",
      "1 * 9 = 9\n",
      "1 * 10 = 10\n",
      "----------------------\n",
      "2 * 1 = 2\n",
      "2 * 2 = 4\n",
      "2 * 3 = 6\n",
      "2 * 4 = 8\n",
      "2 * 5 = 10\n",
      "2 * 6 = 12\n",
      "2 * 7 = 14\n",
      "2 * 8 = 16\n",
      "2 * 9 = 18\n",
      "2 * 10 = 20\n",
      "----------------------\n",
      "3 * 1 = 3\n",
      "3 * 2 = 6\n",
      "3 * 3 = 9\n",
      "3 * 4 = 12\n",
      "3 * 5 = 15\n",
      "3 * 6 = 18\n",
      "3 * 7 = 21\n",
      "3 * 8 = 24\n",
      "3 * 9 = 27\n",
      "3 * 10 = 30\n",
      "----------------------\n",
      "4 * 1 = 4\n",
      "4 * 2 = 8\n",
      "4 * 3 = 12\n",
      "4 * 4 = 16\n",
      "4 * 5 = 20\n",
      "4 * 6 = 24\n",
      "4 * 7 = 28\n",
      "4 * 8 = 32\n",
      "4 * 9 = 36\n",
      "4 * 10 = 40\n",
      "----------------------\n",
      "5 * 1 = 5\n",
      "5 * 2 = 10\n",
      "5 * 3 = 15\n",
      "5 * 4 = 20\n",
      "5 * 5 = 25\n",
      "5 * 6 = 30\n",
      "5 * 7 = 35\n",
      "5 * 8 = 40\n",
      "5 * 9 = 45\n",
      "5 * 10 = 50\n",
      "----------------------\n"
     ]
    }
   ],
   "source": [
    "for i in range(1,6, 1):\n",
    "    for j in range(1, 11):\n",
    "        print(f\"{i} * {j} = {i*j}\")\n",
    "    print(\"----------------------\")"
   ]
  },
  {
   "cell_type": "markdown",
   "id": "1e736544-81e7-4bf9-9547-05cbcfc40acf",
   "metadata": {},
   "source": [
    "### While Loop"
   ]
  },
  {
   "cell_type": "code",
   "execution_count": 498,
   "id": "8e8d2f8b-7a90-4da7-aff0-e24ea8c10401",
   "metadata": {},
   "outputs": [
    {
     "name": "stdout",
     "output_type": "stream",
     "text": [
      "1\n",
      "2\n",
      "3\n",
      "4\n",
      "5\n"
     ]
    }
   ],
   "source": [
    "i = 1\n",
    "while i < 6:\n",
    "    print(i)\n",
    "    i += 1  ## Without this, We may fall in Infinity Loop"
   ]
  },
  {
   "cell_type": "markdown",
   "id": "e906fe6a-8667-46cf-9f93-6cb74d20886e",
   "metadata": {},
   "source": [
    "# List Comprehension"
   ]
  },
  {
   "cell_type": "code",
   "execution_count": 500,
   "id": "b4a83c98-4292-4048-9589-73fee1416bf0",
   "metadata": {},
   "outputs": [
    {
     "name": "stdout",
     "output_type": "stream",
     "text": [
      "['Fiat', 'Tata', 'Toyota', 'Audi', 'Volkswagen']\n"
     ]
    }
   ],
   "source": [
    "cars = [\"Fiat\", \"Ford\", \"BMW\", \"Tata\", \"Toyota\", \"Audi\", \"Volkswagen\"]\n",
    "\n",
    "new_list = []\n",
    "for car in cars:\n",
    "    if 'a' in car or 'A' in car:\n",
    "        new_list.append(car)\n",
    "\n",
    "print(new_list)"
   ]
  },
  {
   "cell_type": "code",
   "execution_count": 502,
   "id": "a8852f3f-cc13-49dc-9e8f-a638e18493cd",
   "metadata": {},
   "outputs": [
    {
     "name": "stdout",
     "output_type": "stream",
     "text": [
      "['Fiat', 'Tata', 'Toyota', 'Audi', 'Volkswagen']\n"
     ]
    }
   ],
   "source": [
    "#Shortcut\n",
    "cars = [\"Fiat\", \"Ford\", \"BMW\", \"Tata\", \"Toyota\", \"Audi\", \"Volkswagen\"]\n",
    "new_list = [car for car in cars if 'a' in car or 'A' in car]\n",
    "print(new_list)"
   ]
  },
  {
   "cell_type": "code",
   "execution_count": 513,
   "id": "1c6238f9-f02a-4f96-bc75-b91e2affcd7b",
   "metadata": {},
   "outputs": [
    {
     "name": "stdout",
     "output_type": "stream",
     "text": [
      "[6, 7, 8, 9, 10]\n"
     ]
    }
   ],
   "source": [
    "new_number = []\n",
    "for i in range(1,11):\n",
    "    if i>5:\n",
    "        new_number.append(i)\n",
    "print(new_number)"
   ]
  },
  {
   "cell_type": "code",
   "execution_count": 520,
   "id": "dbc69894-88c2-4e1c-bcb1-3301f590d344",
   "metadata": {},
   "outputs": [
    {
     "name": "stdout",
     "output_type": "stream",
     "text": [
      "[5, 6, 7, 8, 9, 10]\n"
     ]
    }
   ],
   "source": [
    "#Shortcut\n",
    "new = [i for i in range(1,11) if i>4]\n",
    "print(new)"
   ]
  },
  {
   "cell_type": "markdown",
   "id": "ad1a96fe-7fa9-466d-9e60-1a65b4bca2fb",
   "metadata": {},
   "source": [
    "# Functions\n",
    "### A function is a block of code that performs a specific task."
   ]
  },
  {
   "cell_type": "code",
   "execution_count": 522,
   "id": "518fe365-281f-4ae3-aeb7-828609494dff",
   "metadata": {},
   "outputs": [
    {
     "name": "stdout",
     "output_type": "stream",
     "text": [
      "Hello World\n",
      "This is Python programming class\n"
     ]
    }
   ],
   "source": [
    "def print_statement():\n",
    "    print(\"Hello World\")\n",
    "    print(\"This is Python programming class\")\n",
    "print_statement()"
   ]
  },
  {
   "cell_type": "code",
   "execution_count": 523,
   "id": "bec83b2b-7f45-485e-a92c-db456728b586",
   "metadata": {},
   "outputs": [
    {
     "name": "stdout",
     "output_type": "stream",
     "text": [
      "This is before calling a function\n",
      "Hello World\n",
      "This is Python programming class\n",
      "This is after calling a function\n"
     ]
    }
   ],
   "source": [
    "print(\"This is before calling a function\")\n",
    "print_statement()\n",
    "print(\"This is after calling a function\")"
   ]
  },
  {
   "cell_type": "code",
   "execution_count": 530,
   "id": "ab913e6b-2e9a-4ae4-b4a5-415c4ddaa86d",
   "metadata": {},
   "outputs": [
    {
     "data": {
      "text/plain": [
       "5"
      ]
     },
     "execution_count": 530,
     "metadata": {},
     "output_type": "execute_result"
    }
   ],
   "source": [
    "def summation(x,y):\n",
    "    return x+y\n",
    "summation(2,3)"
   ]
  },
  {
   "cell_type": "code",
   "execution_count": 535,
   "id": "8a42e1a5-f9ae-47ac-a1d3-59070efb82a0",
   "metadata": {},
   "outputs": [
    {
     "data": {
      "text/plain": [
       "30"
      ]
     },
     "execution_count": 535,
     "metadata": {},
     "output_type": "execute_result"
    }
   ],
   "source": [
    "a = 10\n",
    "b = 20\n",
    "summation(a, b)"
   ]
  },
  {
   "cell_type": "code",
   "execution_count": 536,
   "id": "0bcdc440-96f8-4eaf-9064-93fc6a7180b7",
   "metadata": {},
   "outputs": [
    {
     "name": "stdout",
     "output_type": "stream",
     "text": [
      "900\n"
     ]
    }
   ],
   "source": [
    "a = 10\n",
    "b = 20\n",
    "new_sum = summation(a, b)\n",
    "new_sum = new_sum**2\n",
    "print(new_sum)"
   ]
  },
  {
   "cell_type": "code",
   "execution_count": 537,
   "id": "905f8ccd-6ede-4713-a97e-4ef2c4af55ae",
   "metadata": {},
   "outputs": [
    {
     "name": "stdout",
     "output_type": "stream",
     "text": [
      "10.198039027185569\n"
     ]
    }
   ],
   "source": [
    "x1 = 10\n",
    "y1 = 15\n",
    "x2 = 20\n",
    "y2 = 13\n",
    "\n",
    "distance = ( (x1-x2)**2 + (y1-y2)**2 )**.5\n",
    "print(distance)"
   ]
  },
  {
   "cell_type": "code",
   "execution_count": 4,
   "id": "e4b8b42f-0b31-4dd4-bed2-2a0af9c475af",
   "metadata": {},
   "outputs": [],
   "source": [
    "def distance(x_1, y_1, x_2, y_2):\n",
    "    distance = ( (x_1-x_2)**2 + (y_1-y_2)**2 )**.5\n",
    "    return distance"
   ]
  },
  {
   "cell_type": "code",
   "execution_count": 7,
   "id": "c7b69fe2-c091-4d8b-9bd7-c7e634b083a5",
   "metadata": {},
   "outputs": [
    {
     "name": "stdout",
     "output_type": "stream",
     "text": [
      "10.198039027185569\n"
     ]
    }
   ],
   "source": [
    "x1 = 10\n",
    "y1 = 15\n",
    "x2 = 20\n",
    "y2 = 13\n",
    "\n",
    "new_distance = distance(x1, y1, x2, y2)\n",
    "print(new_distance)"
   ]
  },
  {
   "cell_type": "code",
   "execution_count": 541,
   "id": "e7954126-bace-4f42-8f1f-2372714d217b",
   "metadata": {},
   "outputs": [
    {
     "name": "stdout",
     "output_type": "stream",
     "text": [
      "58.309518948453004\n"
     ]
    }
   ],
   "source": [
    "a1 = 50\n",
    "b1 = 40\n",
    "a2 = 80\n",
    "b2 = 90\n",
    "\n",
    "new_distance = distance(a1, b1, a2, b2)\n",
    "print(new_distance)"
   ]
  },
  {
   "cell_type": "markdown",
   "id": "1cc94a19-2681-42e9-a154-3d693991aede",
   "metadata": {},
   "source": [
    "### Two things to remember, Parameter and Argument\n",
    "Parameters are the variables listed inside the parentheses in the function definition. They act like placeholders for the data the function can accept when we call them.\n",
    "Arguments are the actual values that we pass to the function when we call it."
   ]
  },
  {
   "cell_type": "code",
   "execution_count": 545,
   "id": "2db36c07-a41b-4d50-a07f-16bcb7647ea9",
   "metadata": {},
   "outputs": [],
   "source": [
    "def print_date(Date, Month, Year, Hour, Min):\n",
    "    print(f'Today is {Date}th {Month}, {Year}; {Hour}:{Min}')"
   ]
  },
  {
   "cell_type": "code",
   "execution_count": 546,
   "id": "4a30aa97-2886-4655-9715-e4b92a5328ae",
   "metadata": {},
   "outputs": [
    {
     "name": "stdout",
     "output_type": "stream",
     "text": [
      "Today is 24th July, 2024; 3:45\n"
     ]
    }
   ],
   "source": [
    "print_date(24, \"July\", 2024, 3, 45)"
   ]
  },
  {
   "cell_type": "code",
   "execution_count": 9,
   "id": "b65889b1-16dc-4823-ab9c-3aac6ca0ee0c",
   "metadata": {},
   "outputs": [],
   "source": [
    "def print_date(Date, Month, Year, *args):\n",
    "    if len(args) != 0:\n",
    "        print(f'Today is {Date}th {Month}, {Year}; {args[0]}:{args[1]}')\n",
    "    else:\n",
    "        print(f'Today is {Date}th {Month}, {Year}')"
   ]
  },
  {
   "cell_type": "code",
   "execution_count": 11,
   "id": "a025ab31-28c6-472d-a312-b7577da9b8d4",
   "metadata": {},
   "outputs": [
    {
     "name": "stdout",
     "output_type": "stream",
     "text": [
      "Today is 24th July, 2024\n"
     ]
    }
   ],
   "source": [
    "print_date(24, \"July\", 2024)"
   ]
  },
  {
   "cell_type": "markdown",
   "id": "e3ea6516-5425-4980-bf35-0db2b0a45006",
   "metadata": {},
   "source": [
    "## Default Parameter"
   ]
  },
  {
   "cell_type": "code",
   "execution_count": 551,
   "id": "098b27e3-851b-400a-ae0a-ffbf355dd0f4",
   "metadata": {},
   "outputs": [
    {
     "name": "stdout",
     "output_type": "stream",
     "text": [
      "I am from Norway\n",
      "I am from Sweden\n"
     ]
    }
   ],
   "source": [
    "def my_function(country = \"Norway\"):\n",
    "  print(\"I am from \" + country)\n",
    "my_function()\n",
    "my_function(\"Sweden\")"
   ]
  },
  {
   "cell_type": "markdown",
   "id": "9618c10d-e8ec-48db-996a-a3f91632a695",
   "metadata": {},
   "source": [
    "# Recursion"
   ]
  },
  {
   "cell_type": "code",
   "execution_count": 552,
   "id": "b8955407-d957-41d8-97e8-7b5e7635d62c",
   "metadata": {},
   "outputs": [],
   "source": [
    "def factorial(value):\n",
    "    if value == 0:\n",
    "        return 1\n",
    "    return value * factorial(value-1)"
   ]
  },
  {
   "cell_type": "code",
   "execution_count": 553,
   "id": "1e494fa4-7b9a-4b8b-a0aa-a87b04418d9c",
   "metadata": {},
   "outputs": [
    {
     "data": {
      "text/plain": [
       "6"
      ]
     },
     "execution_count": 553,
     "metadata": {},
     "output_type": "execute_result"
    }
   ],
   "source": [
    "factorial(3)"
   ]
  },
  {
   "cell_type": "markdown",
   "id": "8a0d5fee-0950-4db9-b82e-5e9238e2eea8",
   "metadata": {},
   "source": [
    "# Python Lambda"
   ]
  },
  {
   "cell_type": "code",
   "execution_count": 1,
   "id": "41c4f36b-e23f-4ab5-bd85-355055795260",
   "metadata": {},
   "outputs": [
    {
     "data": {
      "text/plain": [
       "12"
      ]
     },
     "execution_count": 1,
     "metadata": {},
     "output_type": "execute_result"
    }
   ],
   "source": [
    "def add(a,b):\n",
    "  return a+b\n",
    "\n",
    "add(5,7)"
   ]
  },
  {
   "cell_type": "code",
   "execution_count": 2,
   "id": "213c5d85-3c32-43a6-a617-579d2db36ac2",
   "metadata": {},
   "outputs": [
    {
     "data": {
      "text/plain": [
       "15"
      ]
     },
     "execution_count": 2,
     "metadata": {},
     "output_type": "execute_result"
    }
   ],
   "source": [
    "add = lambda a,b: a+b\n",
    "add(5,10)"
   ]
  },
  {
   "cell_type": "code",
   "execution_count": 3,
   "id": "1c6db31f-12e6-4f5f-8ba0-9d479fdacdfa",
   "metadata": {},
   "outputs": [
    {
     "data": {
      "text/plain": [
       "14.866068747318506"
      ]
     },
     "execution_count": 3,
     "metadata": {},
     "output_type": "execute_result"
    }
   ],
   "source": [
    "def distance(x1, y1, x2, y2):\n",
    "  return ( (x1-x2)**2 + (y1-y2)**2 )**.5\n",
    "\n",
    "distance(5,6,10,20)"
   ]
  },
  {
   "cell_type": "code",
   "execution_count": 4,
   "id": "667b834e-7a40-44b7-a3ef-78251d3dfbe6",
   "metadata": {},
   "outputs": [
    {
     "data": {
      "text/plain": [
       "10.198039027185569"
      ]
     },
     "execution_count": 4,
     "metadata": {},
     "output_type": "execute_result"
    }
   ],
   "source": [
    "new_distance = lambda x1, y1, x2, y2: ( (x1-x2)**2 + (y1-y2)**2 )**.5\n",
    "new_distance(10,15,20,13)"
   ]
  },
  {
   "cell_type": "markdown",
   "id": "523b9224-b06f-4a0f-92ef-59c818d7a477",
   "metadata": {},
   "source": [
    "# Python Variable Scope"
   ]
  },
  {
   "cell_type": "code",
   "execution_count": 5,
   "id": "932ef3a9-ade0-4188-a443-f772a390bab9",
   "metadata": {},
   "outputs": [
    {
     "name": "stdout",
     "output_type": "stream",
     "text": [
      "My name is Asif\n",
      "My name is Iqbal\n"
     ]
    }
   ],
   "source": [
    "def print_name(name):\n",
    "  name = \"Asif\"\n",
    "  print(f'My name is {name}')\n",
    "\n",
    "name = \"Iqbal\"\n",
    "print_name(name)\n",
    "print(f'My name is {name}')"
   ]
  },
  {
   "cell_type": "code",
   "execution_count": 8,
   "id": "32220bcd-91ab-4987-8362-ff771ff99032",
   "metadata": {},
   "outputs": [],
   "source": [
    "def grade(number):\n",
    "  a = 100\n",
    "  b = 20\n",
    "  c = 12\n",
    "  #print(a)\n",
    "  if number>=100:\n",
    "    number = 80\n",
    "    print(f'The number is {number}')\n",
    "    return number\n",
    "\n",
    "  if number<=33:\n",
    "    number = 33\n",
    "    print(f'The number is {number}')\n",
    "    return number\n",
    "\n",
    "  print(f'The number is {number}')\n",
    "  return number"
   ]
  },
  {
   "cell_type": "code",
   "execution_count": 9,
   "id": "55c22ac2-a247-4676-b0ec-dd05e0500c6f",
   "metadata": {},
   "outputs": [
    {
     "name": "stdout",
     "output_type": "stream",
     "text": [
      "The number is 80\n",
      "You got 120, but the final number is 80\n"
     ]
    }
   ],
   "source": [
    "number = 120\n",
    "new_number = grade(number)\n",
    "\n",
    "print(f'You got {number}, but the final number is {new_number}')"
   ]
  },
  {
   "cell_type": "code",
   "execution_count": 10,
   "id": "d86fc6a3-39e8-4a10-a4a6-5d95f048a0ec",
   "metadata": {},
   "outputs": [
    {
     "name": "stdout",
     "output_type": "stream",
     "text": [
      "The value of a inside the function is 20\n",
      "The value of a outside the function is 10\n"
     ]
    }
   ],
   "source": [
    "a = 10\n",
    "\n",
    "def print_a():\n",
    "  a = 20\n",
    "  print(f'The value of a inside the function is {a}')\n",
    "\n",
    "print_a()\n",
    "print(f'The value of a outside the function is {a}')"
   ]
  },
  {
   "cell_type": "markdown",
   "id": "8b7716f0-123e-4162-a429-b893c907ea4b",
   "metadata": {},
   "source": [
    "# Python Classes/Objects"
   ]
  },
  {
   "cell_type": "markdown",
   "id": "11c9aa1a-bb72-478f-aed8-1061b600de6c",
   "metadata": {},
   "source": [
    "### Classes:\n",
    "\n",
    "###### Definition: A class in Python is a blueprint for creating objects. It defines a datatype by encapsulating the attributes and behaviors (methods) that the objects created from the class can perform.\n",
    "###### Components: A class typically includes:\n",
    "<br>\n",
    "Attributes: Variables that store data specific to the class.\n",
    "<br>\n",
    "Methods: Functions that define behaviors of the class.\n",
    "\n",
    "### Objects:\n",
    "\n",
    "###### Definition: An object is an instance of a class. When a class is defined, no memory is allocated until an object of that class is created.\n",
    "###### Creation: Objects are created by calling the class itself as if it were a function. This triggers the class's __init__ method, which initializes the object.\n",
    "###### Usage: Objects access the attributes and methods of the class they were created from, allowing for individual object data and behaviors as defined by the class."
   ]
  },
  {
   "cell_type": "markdown",
   "id": "1dc01ebb-9fbb-460a-82d9-9c2faa1e19fd",
   "metadata": {},
   "source": [
    "### __init__() Function\n",
    "###### Purpose: The __init__() method is the constructor in Python. It's automatically invoked when a new object of a class is created.\n",
    "###### Self Parameter: The first parameter of the __init__() method is self, which is a reference to the current instance of the class. It allows access to the attributes and methods of the class in Python.\n",
    "###### Initialization: The __init__() method is used to initialize the attributes of an object. This method can take additional arguments to set the initial state of a new object."
   ]
  },
  {
   "cell_type": "code",
   "execution_count": 12,
   "id": "aee01ae2-8019-4abe-a6fe-352441684ce0",
   "metadata": {},
   "outputs": [],
   "source": [
    "class animal:\n",
    "  legs = 0\n",
    "  mammal = False\n",
    "  bark = \"------\"\n",
    "  is_pet = False\n",
    "\n",
    "  def barks(self):\n",
    "    print(self.bark)\n",
    "\n",
    "  def pet(self):\n",
    "    if self.is_pet == True:\n",
    "      print(\"The animal is suitable for petting\")\n",
    "    else:\n",
    "      print(\"The animal is not suitable for petting\")"
   ]
  },
  {
   "cell_type": "code",
   "execution_count": 14,
   "id": "f9d40e26-2e6e-47c3-8a4f-542736c9b9e6",
   "metadata": {},
   "outputs": [],
   "source": [
    "cat = animal"
   ]
  },
  {
   "cell_type": "code",
   "execution_count": 15,
   "id": "b7ea1471-5428-4a33-bd2c-47099b2a246f",
   "metadata": {},
   "outputs": [
    {
     "data": {
      "text/plain": [
       "0"
      ]
     },
     "execution_count": 15,
     "metadata": {},
     "output_type": "execute_result"
    }
   ],
   "source": [
    "cat.legs"
   ]
  },
  {
   "cell_type": "code",
   "execution_count": 16,
   "id": "7664366a-30f8-4121-bb53-e832e6b7a8fb",
   "metadata": {},
   "outputs": [
    {
     "data": {
      "text/plain": [
       "False"
      ]
     },
     "execution_count": 16,
     "metadata": {},
     "output_type": "execute_result"
    }
   ],
   "source": [
    "cat.mammal"
   ]
  },
  {
   "cell_type": "code",
   "execution_count": 17,
   "id": "d9a97e8b-705b-45fd-9a8e-6758b30c3000",
   "metadata": {},
   "outputs": [],
   "source": [
    "class animal:\n",
    "\n",
    "  def __init__(self, p_legs, p_mammal, p_bark, p_is_pet):\n",
    "    self.legs = p_legs\n",
    "    self.mammal = p_mammal\n",
    "    self.bark = p_bark\n",
    "    self.is_pet = p_is_pet\n",
    "\n",
    "  def barks(self):\n",
    "    print(self.bark)\n",
    "\n",
    "  def pet(self):\n",
    "    if self.is_pet == True:\n",
    "      print(\"The animal is suitable for petting\")\n",
    "    else:\n",
    "      print(\"The animal is not suitable for petting\")"
   ]
  },
  {
   "cell_type": "code",
   "execution_count": 18,
   "id": "ee70d33c-997b-435a-9781-63a8b6d201bf",
   "metadata": {},
   "outputs": [],
   "source": [
    "cat = animal(4, True, \"Mhew Mhew\", True)"
   ]
  },
  {
   "cell_type": "code",
   "execution_count": 19,
   "id": "b3a41713-00fb-4cdb-9ca7-a2728e5252b4",
   "metadata": {},
   "outputs": [
    {
     "name": "stdout",
     "output_type": "stream",
     "text": [
      "The animal is suitable for petting\n"
     ]
    }
   ],
   "source": [
    "cat.pet()"
   ]
  },
  {
   "cell_type": "code",
   "execution_count": 20,
   "id": "08d19948-35a9-4faa-a243-729f80a7c993",
   "metadata": {},
   "outputs": [
    {
     "name": "stdout",
     "output_type": "stream",
     "text": [
      "Mhew Mhew\n"
     ]
    }
   ],
   "source": [
    "cat.barks()"
   ]
  },
  {
   "cell_type": "code",
   "execution_count": 21,
   "id": "5ea2c7fd-467f-441b-a150-ff862668e042",
   "metadata": {},
   "outputs": [
    {
     "data": {
      "text/plain": [
       "4"
      ]
     },
     "execution_count": 21,
     "metadata": {},
     "output_type": "execute_result"
    }
   ],
   "source": [
    "cat.legs"
   ]
  },
  {
   "cell_type": "code",
   "execution_count": 22,
   "id": "95bbb049-8cf9-4dae-9c0f-ff0e7cb7032e",
   "metadata": {},
   "outputs": [],
   "source": [
    "class animal:\n",
    "\n",
    "  def __init__(self, p_legs, p_mammal, p_bark, p_is_pet, fur, aggresive):\n",
    "    self.legs = p_legs\n",
    "    self.mammal = p_mammal\n",
    "    self.bark = p_bark\n",
    "    self.is_pet = p_is_pet\n",
    "    self.fur = fur\n",
    "    self.aggresive = aggresive\n",
    "\n",
    "  def aggresive(self):\n",
    "    print(self.aggresive)\n",
    "\n",
    "  def barks(self):\n",
    "    print(self.bark)\n",
    "\n",
    "  def pet(self):\n",
    "    if self.is_pet == True:\n",
    "      print(\"The animal is suitable for petting\")\n",
    "    else:\n",
    "      print(\"The animal is not suitable for petting\")"
   ]
  },
  {
   "cell_type": "code",
   "execution_count": 32,
   "id": "74e02747-7b9a-4c74-ac98-40c1cab6ff82",
   "metadata": {},
   "outputs": [],
   "source": [
    "cat = animal(4, True, \"Mew Mew\", True, True, False)\n",
    "\n",
    "cow = animal(4, True, \"Hamba Hamba\", False, True, False)\n",
    "\n",
    "eagle = animal(2, False, \"Cho cho\", False, True, True)\n"
   ]
  },
  {
   "cell_type": "code",
   "execution_count": 35,
   "id": "0252a8d3-470d-4824-8e8b-e71a643a6f10",
   "metadata": {},
   "outputs": [
    {
     "name": "stdout",
     "output_type": "stream",
     "text": [
      "Mew Mew\n",
      "Hamba Hamba\n",
      "Cho cho\n",
      "The animal is suitable for petting\n",
      "The animal is not suitable for petting\n"
     ]
    }
   ],
   "source": [
    "cat.barks()\n",
    "cow.barks()\n",
    "eagle.barks()\n",
    "eagle.legs\n",
    "cat.pet()\n",
    "eagle.pet()"
   ]
  },
  {
   "cell_type": "code",
   "execution_count": 36,
   "id": "1f234f13-4f88-42a5-8af0-135c5409b898",
   "metadata": {},
   "outputs": [],
   "source": [
    "class animal:\n",
    "\n",
    "  def __init__(self, p_legs, p_mammal, p_bark, p_is_pet):\n",
    "    self.legs = p_legs\n",
    "    self.mammal = p_mammal\n",
    "    self.bark = p_bark\n",
    "    self.is_pet = p_is_pet\n",
    "\n",
    "  def barks(self):\n",
    "    print(self.bark)\n",
    "    return 0\n",
    "\n",
    "  def pet(self):\n",
    "    if self.is_pet == True:\n",
    "      print(\"The animal is suitable for petting\")\n",
    "    else:\n",
    "      print(\"The animal is not suitable for petting\")\n",
    "    return 0"
   ]
  },
  {
   "cell_type": "code",
   "execution_count": 37,
   "id": "02db29b7-d8ce-4e45-b0b0-42a0935c1eb3",
   "metadata": {},
   "outputs": [],
   "source": [
    "cat = animal(4, True, \"Mew Mew\", True)"
   ]
  },
  {
   "cell_type": "code",
   "execution_count": 38,
   "id": "cb6475b3-3bbe-4bcf-98b3-562edb2c1112",
   "metadata": {},
   "outputs": [
    {
     "name": "stdout",
     "output_type": "stream",
     "text": [
      "Mew Mew\n",
      "The animal is suitable for petting\n",
      "4 True 0 0\n"
     ]
    }
   ],
   "source": [
    "print(cat.legs, cat.mammal, cat.barks(), cat.pet())"
   ]
  },
  {
   "cell_type": "markdown",
   "id": "b507022d-3011-4aeb-80da-ea6e991fba30",
   "metadata": {},
   "source": [
    "# Python RegEx\n",
    "A RegEx, or Regular Expression, is a sequence of characters that forms a search pattern.\n",
    "\n",
    "RegEx can be used to check if a string contains the specified search pattern."
   ]
  },
  {
   "cell_type": "markdown",
   "id": "4ca73fb6-ebfd-477d-a022-5840ceb7e7e7",
   "metadata": {},
   "source": [
    "### Metacharacters\n",
    "<li>\n",
    "[] ->\tA set of characters <br>\n",
    ". ->\tAny character (except newline character) <br>\n",
    "^ ->\tStarts with <br>\n",
    "$ ->\tEnds with <br>\n",
    "* ->\tZero or more occurrences <br>\n",
    "+ ->\tOne or more occurrences <br>\n",
    "? ->\tZero or one occurrences <br>\n",
    "{} ->\tExactly the specified number of occurrences <br>\n",
    "</li>"
   ]
  },
  {
   "cell_type": "markdown",
   "id": "11f0701a-ea5a-404a-9ad5-cb933a592a3c",
   "metadata": {},
   "source": [
    "# Try .. Except"
   ]
  },
  {
   "cell_type": "code",
   "execution_count": 39,
   "id": "f390b872-9859-4dbd-a934-026735e01702",
   "metadata": {},
   "outputs": [
    {
     "name": "stdout",
     "output_type": "stream",
     "text": [
      "This is before try--except\n",
      "Hello World\n"
     ]
    },
    {
     "ename": "ZeroDivisionError",
     "evalue": "division by zero",
     "output_type": "error",
     "traceback": [
      "\u001b[1;31m---------------------------------------------------------------------------\u001b[0m",
      "\u001b[1;31mZeroDivisionError\u001b[0m                         Traceback (most recent call last)",
      "Cell \u001b[1;32mIn[39], line 5\u001b[0m\n\u001b[0;32m      1\u001b[0m \u001b[38;5;28mprint\u001b[39m(\u001b[38;5;124m\"\u001b[39m\u001b[38;5;124mThis is before try--except\u001b[39m\u001b[38;5;124m\"\u001b[39m)\n\u001b[0;32m      4\u001b[0m \u001b[38;5;28mprint\u001b[39m(\u001b[38;5;124m\"\u001b[39m\u001b[38;5;124mHello World\u001b[39m\u001b[38;5;124m\"\u001b[39m)\n\u001b[1;32m----> 5\u001b[0m \u001b[38;5;28mprint\u001b[39m(\u001b[38;5;241;43m1\u001b[39;49m\u001b[38;5;241;43m/\u001b[39;49m\u001b[38;5;241;43m0\u001b[39;49m)\n\u001b[0;32m      6\u001b[0m \u001b[38;5;28mprint\u001b[39m(\u001b[38;5;124m\"\u001b[39m\u001b[38;5;124mThis is python programming class.\u001b[39m\u001b[38;5;124m\"\u001b[39m)\n\u001b[0;32m      8\u001b[0m \u001b[38;5;28mprint\u001b[39m(\u001b[38;5;124m\"\u001b[39m\u001b[38;5;124mThis is after try--except\u001b[39m\u001b[38;5;124m\"\u001b[39m)\n",
      "\u001b[1;31mZeroDivisionError\u001b[0m: division by zero"
     ]
    }
   ],
   "source": [
    "print(\"This is before try--except\")\n",
    "\n",
    "\n",
    "print(\"Hello World\")\n",
    "print(1/0)\n",
    "print(\"This is python programming class.\")\n",
    "\n",
    "print(\"This is after try--except\")"
   ]
  },
  {
   "cell_type": "code",
   "execution_count": 40,
   "id": "3dba1bf1-4140-4ce4-94c6-29aa7b4c75c3",
   "metadata": {},
   "outputs": [
    {
     "name": "stdout",
     "output_type": "stream",
     "text": [
      "This is before try--except\n",
      "Hello World\n",
      "Warning!!! Don't divide by 0\n",
      "This is after try--except\n"
     ]
    }
   ],
   "source": [
    "print(\"This is before try--except\")\n",
    "\n",
    "try:\n",
    "  print(\"Hello World\")\n",
    "  print(1/0)\n",
    "  print(\"This is python programming class.\")\n",
    "except:\n",
    "  print(\"Warning!!! Don't divide by 0\")\n",
    "\n",
    "print(\"This is after try--except\")"
   ]
  },
  {
   "cell_type": "code",
   "execution_count": 41,
   "id": "87f4a7a0-ed68-423e-ba7e-db9385333640",
   "metadata": {},
   "outputs": [
    {
     "name": "stdout",
     "output_type": "stream",
     "text": [
      "Fiat\n"
     ]
    }
   ],
   "source": [
    "car = ['Ford', \"Fiat\", \"Audi\"]\n",
    "\n",
    "try:\n",
    "  print(car[1])\n",
    "except:\n",
    "  print(\"Please check the index of the list\")"
   ]
  },
  {
   "cell_type": "markdown",
   "id": "f6d81147-7376-4ada-8771-882a26ae8423",
   "metadata": {},
   "source": [
    "### try Block:\n",
    "<li>\n",
    "Purpose: This is where you place the code that might cause an exception during execution. The Python interpreter checks the code in this block for any errors.\n",
    "</li>\n",
    "\n",
    "### except Block:\n",
    "<li>\n",
    "Handling Exceptions: If an exception occurs in the try block, Python stops the execution of that block and transfers control to the except block. You can specify particular exceptions to catch or handle all exceptions generically.\n",
    "</li>\n",
    "<li>\n",
    "Multiple Exceptions: You can have multiple except clauses to handle different exceptions in different ways.\n",
    "</li>\n",
    "\n",
    "### else Block:\n",
    "<li>\n",
    "No Exceptions: This block is executed if no exceptions were raised in the try block. It’s often used for code that should run if the try block was successful.\n",
    "</li>\n",
    "<li>\n",
    "Placement: It must be placed after all except blocks.\n",
    "</li>\n",
    "\n",
    "### finally Block:\n",
    "<li>\n",
    "Always Executes: This block runs regardless of whether an exception was raised or not and whether it was caught if raised. It's typically used for clean-up actions, such as closing files or releasing resources.\n",
    "</li>\n",
    "<li>\n",
    "Guaranteed Execution: Even if the program crashes or a return statement is encountered in the try or except blocks, the finally block will still execute.\n",
    "</li>"
   ]
  },
  {
   "cell_type": "markdown",
   "id": "131b9e2f-a4ba-4a7c-a143-fe5976d107f9",
   "metadata": {},
   "source": [
    "### We can use try..except for multiple error."
   ]
  },
  {
   "cell_type": "code",
   "execution_count": 43,
   "id": "89715756-e77b-4524-a92e-cd10418c77be",
   "metadata": {},
   "outputs": [
    {
     "name": "stdout",
     "output_type": "stream",
     "text": [
      "Please check the index of the list\n"
     ]
    }
   ],
   "source": [
    "car = ['Ford', \"Fiat\", \"Audi\"]\n",
    "\n",
    "try:\n",
    "  divide = 1/0\n",
    "  print(car[3])\n",
    "except:\n",
    "  print(\"Please check the index of the list\")"
   ]
  },
  {
   "cell_type": "code",
   "execution_count": 44,
   "id": "ae516669-ea78-494d-a56d-a5490254585b",
   "metadata": {},
   "outputs": [
    {
     "ename": "IndexError",
     "evalue": "list index out of range",
     "output_type": "error",
     "traceback": [
      "\u001b[1;31m---------------------------------------------------------------------------\u001b[0m",
      "\u001b[1;31mIndexError\u001b[0m                                Traceback (most recent call last)",
      "Cell \u001b[1;32mIn[44], line 2\u001b[0m\n\u001b[0;32m      1\u001b[0m car \u001b[38;5;241m=\u001b[39m [\u001b[38;5;124m'\u001b[39m\u001b[38;5;124mFord\u001b[39m\u001b[38;5;124m'\u001b[39m, \u001b[38;5;124m\"\u001b[39m\u001b[38;5;124mFiat\u001b[39m\u001b[38;5;124m\"\u001b[39m, \u001b[38;5;124m\"\u001b[39m\u001b[38;5;124mAudi\u001b[39m\u001b[38;5;124m\"\u001b[39m]\n\u001b[1;32m----> 2\u001b[0m \u001b[38;5;28mprint\u001b[39m(\u001b[43mcar\u001b[49m\u001b[43m[\u001b[49m\u001b[38;5;241;43m3\u001b[39;49m\u001b[43m]\u001b[49m)\n",
      "\u001b[1;31mIndexError\u001b[0m: list index out of range"
     ]
    }
   ],
   "source": [
    "car = ['Ford', \"Fiat\", \"Audi\"]\n",
    "print(car[3])"
   ]
  },
  {
   "cell_type": "code",
   "execution_count": 45,
   "id": "9d89ee14-cda3-4790-9d7a-53ed32d4b7bd",
   "metadata": {},
   "outputs": [
    {
     "name": "stdout",
     "output_type": "stream",
     "text": [
      "Don't divide by zero\n"
     ]
    }
   ],
   "source": [
    "car = ['Ford', \"Fiat\", \"Audi\"]\n",
    "\n",
    "try:\n",
    "  divide = 1/0\n",
    "  print(car[3])\n",
    "except ZeroDivisionError:\n",
    "  print(\"Don't divide by zero\")\n",
    "except IndexError:\n",
    "  print(\"Please check the index of the list\")\n",
    "except:\n",
    "  print(\"We are facing some Error\")"
   ]
  },
  {
   "cell_type": "code",
   "execution_count": 46,
   "id": "81e9c9ca-e02a-4aaa-a178-2d379fe5f53a",
   "metadata": {},
   "outputs": [
    {
     "name": "stdout",
     "output_type": "stream",
     "text": [
      "Please check the index of the list\n",
      "This will always print in the try..except block\n"
     ]
    }
   ],
   "source": [
    "car = ['Ford', \"Fiat\", \"Audi\"]\n",
    "\n",
    "try:\n",
    "  print(car[3])\n",
    "  divide = 1/0\n",
    "except ZeroDivisionError:\n",
    "  print(\"Don't divide by zero\")\n",
    "except IndexError:\n",
    "  print(\"Please check the index of the list\")\n",
    "finally:\n",
    "  print(\"This will always print in the try..except block\")"
   ]
  },
  {
   "cell_type": "markdown",
   "id": "8c884c2c-9679-4ec7-b0a6-da26c58336c5",
   "metadata": {},
   "source": [
    "# Read Documentation"
   ]
  },
  {
   "cell_type": "code",
   "execution_count": 47,
   "id": "c1909c6e-1487-46a9-a873-08a5dbba49d2",
   "metadata": {},
   "outputs": [
    {
     "name": "stdout",
     "output_type": "stream",
     "text": [
      "Help on class dict in module builtins:\n",
      "\n",
      "class dict(object)\n",
      " |  dict() -> new empty dictionary\n",
      " |  dict(mapping) -> new dictionary initialized from a mapping object's\n",
      " |      (key, value) pairs\n",
      " |  dict(iterable) -> new dictionary initialized as if via:\n",
      " |      d = {}\n",
      " |      for k, v in iterable:\n",
      " |          d[k] = v\n",
      " |  dict(**kwargs) -> new dictionary initialized with the name=value pairs\n",
      " |      in the keyword argument list.  For example:  dict(one=1, two=2)\n",
      " |\n",
      " |  Built-in subclasses:\n",
      " |      StgDict\n",
      " |\n",
      " |  Methods defined here:\n",
      " |\n",
      " |  __contains__(self, key, /)\n",
      " |      True if the dictionary has the specified key, else False.\n",
      " |\n",
      " |  __delitem__(self, key, /)\n",
      " |      Delete self[key].\n",
      " |\n",
      " |  __eq__(self, value, /)\n",
      " |      Return self==value.\n",
      " |\n",
      " |  __ge__(self, value, /)\n",
      " |      Return self>=value.\n",
      " |\n",
      " |  __getattribute__(self, name, /)\n",
      " |      Return getattr(self, name).\n",
      " |\n",
      " |  __getitem__(self, key, /)\n",
      " |      Return self[key].\n",
      " |\n",
      " |  __gt__(self, value, /)\n",
      " |      Return self>value.\n",
      " |\n",
      " |  __init__(self, /, *args, **kwargs)\n",
      " |      Initialize self.  See help(type(self)) for accurate signature.\n",
      " |\n",
      " |  __ior__(self, value, /)\n",
      " |      Return self|=value.\n",
      " |\n",
      " |  __iter__(self, /)\n",
      " |      Implement iter(self).\n",
      " |\n",
      " |  __le__(self, value, /)\n",
      " |      Return self<=value.\n",
      " |\n",
      " |  __len__(self, /)\n",
      " |      Return len(self).\n",
      " |\n",
      " |  __lt__(self, value, /)\n",
      " |      Return self<value.\n",
      " |\n",
      " |  __ne__(self, value, /)\n",
      " |      Return self!=value.\n",
      " |\n",
      " |  __or__(self, value, /)\n",
      " |      Return self|value.\n",
      " |\n",
      " |  __repr__(self, /)\n",
      " |      Return repr(self).\n",
      " |\n",
      " |  __reversed__(self, /)\n",
      " |      Return a reverse iterator over the dict keys.\n",
      " |\n",
      " |  __ror__(self, value, /)\n",
      " |      Return value|self.\n",
      " |\n",
      " |  __setitem__(self, key, value, /)\n",
      " |      Set self[key] to value.\n",
      " |\n",
      " |  __sizeof__(...)\n",
      " |      D.__sizeof__() -> size of D in memory, in bytes\n",
      " |\n",
      " |  clear(...)\n",
      " |      D.clear() -> None.  Remove all items from D.\n",
      " |\n",
      " |  copy(...)\n",
      " |      D.copy() -> a shallow copy of D\n",
      " |\n",
      " |  get(self, key, default=None, /)\n",
      " |      Return the value for key if key is in the dictionary, else default.\n",
      " |\n",
      " |  items(...)\n",
      " |      D.items() -> a set-like object providing a view on D's items\n",
      " |\n",
      " |  keys(...)\n",
      " |      D.keys() -> a set-like object providing a view on D's keys\n",
      " |\n",
      " |  pop(...)\n",
      " |      D.pop(k[,d]) -> v, remove specified key and return the corresponding value.\n",
      " |\n",
      " |      If the key is not found, return the default if given; otherwise,\n",
      " |      raise a KeyError.\n",
      " |\n",
      " |  popitem(self, /)\n",
      " |      Remove and return a (key, value) pair as a 2-tuple.\n",
      " |\n",
      " |      Pairs are returned in LIFO (last-in, first-out) order.\n",
      " |      Raises KeyError if the dict is empty.\n",
      " |\n",
      " |  setdefault(self, key, default=None, /)\n",
      " |      Insert key with a value of default if key is not in the dictionary.\n",
      " |\n",
      " |      Return the value for key if key is in the dictionary, else default.\n",
      " |\n",
      " |  update(...)\n",
      " |      D.update([E, ]**F) -> None.  Update D from dict/iterable E and F.\n",
      " |      If E is present and has a .keys() method, then does:  for k in E: D[k] = E[k]\n",
      " |      If E is present and lacks a .keys() method, then does:  for k, v in E: D[k] = v\n",
      " |      In either case, this is followed by: for k in F:  D[k] = F[k]\n",
      " |\n",
      " |  values(...)\n",
      " |      D.values() -> an object providing a view on D's values\n",
      " |\n",
      " |  ----------------------------------------------------------------------\n",
      " |  Class methods defined here:\n",
      " |\n",
      " |  __class_getitem__(...)\n",
      " |      See PEP 585\n",
      " |\n",
      " |  fromkeys(iterable, value=None, /)\n",
      " |      Create a new dictionary with keys from iterable and values set to value.\n",
      " |\n",
      " |  ----------------------------------------------------------------------\n",
      " |  Static methods defined here:\n",
      " |\n",
      " |  __new__(*args, **kwargs)\n",
      " |      Create and return a new object.  See help(type) for accurate signature.\n",
      " |\n",
      " |  ----------------------------------------------------------------------\n",
      " |  Data and other attributes defined here:\n",
      " |\n",
      " |  __hash__ = None\n",
      "\n"
     ]
    }
   ],
   "source": [
    "help(dict)"
   ]
  },
  {
   "cell_type": "markdown",
   "id": "9bd1751a-e17f-47af-91c4-7f3cf8b450a2",
   "metadata": {},
   "source": [
    "# Python Inheritance\n",
    "Inheritance allows us to define a class that inherits all the methods and properties from another class.\n",
    "\n",
    "Parent class is the class being inherited from, also called base class.\n",
    "\n",
    "Child class is the class that inherits from another class, also called derived class."
   ]
  },
  {
   "cell_type": "code",
   "execution_count": 49,
   "id": "11a227b1-0b29-44cb-baa0-fdb483f1b651",
   "metadata": {},
   "outputs": [
    {
     "name": "stdout",
     "output_type": "stream",
     "text": [
      "Urmi Karmakar\n"
     ]
    }
   ],
   "source": [
    "#Create a Parent Class\n",
    "class Person:\n",
    "  def __init__(self, fname, lname):\n",
    "    self.firstname = fname\n",
    "    self.lastname = lname\n",
    "\n",
    "  def printname(self):\n",
    "    print(self.firstname, self.lastname)\n",
    "\n",
    "#Use the Person class to create an object, and then execute the printname method:\n",
    "\n",
    "x = Person(\"Urmi\", \"Karmakar\")\n",
    "x.printname()"
   ]
  },
  {
   "cell_type": "code",
   "execution_count": 50,
   "id": "1319efd1-86a6-458d-9f3f-8652ec6443c1",
   "metadata": {},
   "outputs": [
    {
     "name": "stdout",
     "output_type": "stream",
     "text": [
      "Mike Olsen\n"
     ]
    }
   ],
   "source": [
    "#Create a Child Class\n",
    "class Student(Person):\n",
    "  pass\n",
    "\n",
    "x = Student(\"Mike\", \"Olsen\")\n",
    "x.printname()"
   ]
  },
  {
   "cell_type": "markdown",
   "id": "d7850ed3-f083-4d17-ad7e-354af17683ee",
   "metadata": {},
   "source": [
    "# Python Polymorphism\n",
    "The word \"polymorphism\" means \"many forms\", and in programming it refers to methods/functions/operators with the same name that can be executed on many objects or classes.\n",
    "## Function Polymorphism\n",
    "An example of a Python function that can be used on different objects is the len() function.\n",
    "## Class Polymorphism\n",
    "Polymorphism is often used in Class methods, where we can have multiple classes with the same method name."
   ]
  },
  {
   "cell_type": "code",
   "execution_count": 51,
   "id": "a5fb2fad-73dd-45cd-afad-bb5f78cc67b9",
   "metadata": {},
   "outputs": [
    {
     "name": "stdout",
     "output_type": "stream",
     "text": [
      "Drive!\n",
      "Sail!\n",
      "Fly!\n"
     ]
    }
   ],
   "source": [
    "# Different classes with the same method:\n",
    "class Car:\n",
    "  def __init__(self, brand, model):\n",
    "    self.brand = brand\n",
    "    self.model = model\n",
    "\n",
    "  def move(self):\n",
    "    print(\"Drive!\")\n",
    "\n",
    "class Boat:\n",
    "  def __init__(self, brand, model):\n",
    "    self.brand = brand\n",
    "    self.model = model\n",
    "\n",
    "  def move(self):\n",
    "    print(\"Sail!\")\n",
    "\n",
    "class Plane:\n",
    "  def __init__(self, brand, model):\n",
    "    self.brand = brand\n",
    "    self.model = model\n",
    "\n",
    "  def move(self):\n",
    "    print(\"Fly!\")\n",
    "\n",
    "car1 = Car(\"Ford\", \"Mustang\")       #Create a Car class\n",
    "boat1 = Boat(\"Ibiza\", \"Touring 20\") #Create a Boat class\n",
    "plane1 = Plane(\"Boeing\", \"747\")     #Create a Plane class\n",
    "\n",
    "for x in (car1, boat1, plane1):\n",
    "  x.move()"
   ]
  },
  {
   "cell_type": "markdown",
   "id": "0257e53b-8152-4c76-a441-a0a86edf517d",
   "metadata": {},
   "source": [
    "# Python Iterators\n",
    "An iterator is an object that contains a countable number of values.\n",
    "An iterator is an object that can be iterated upon, meaning that you can traverse through all the values.\n",
    "Technically, in Python, an iterator is an object which implements the iterator protocol, which consist of the methods __iter__() and __next__().\n",
    "Iterator vs Iterable\n",
    "Lists, tuples, dictionaries, and sets are all iterable objects. They are iterable containers which you can get an iterator from.\n",
    "All these objects have a iter() method which is used to get an iterator:"
   ]
  },
  {
   "cell_type": "code",
   "execution_count": 52,
   "id": "78d03152-de94-4eea-a00a-b6cf7d245503",
   "metadata": {},
   "outputs": [
    {
     "name": "stdout",
     "output_type": "stream",
     "text": [
      "apple\n",
      "banana\n",
      "cherry\n"
     ]
    }
   ],
   "source": [
    "# Create an Iterator\n",
    "To create an object/class as an iterator you have to implement the methods __iter__() and __next__() to your object.\n",
    "\n",
    "As you have learned in the Python Classes/Objects chapter, all classes have a function called __init__(), which allows you to do some initializing when the object is being created.\n",
    "\n",
    "The __iter__() method acts similar, you can do operations (initializing etc.), but must always return the iterator object itself.\n",
    "\n",
    "The __next__() method also allows you to do operations, and must return the next item in the sequence.Return an iterator from a tuple, and print each value:\n",
    "mytuple = (\"apple\", \"banana\", \"cherry\")\n",
    "myit = iter(mytuple)\n",
    "\n",
    "print(next(myit))\n",
    "print(next(myit))\n",
    "print(next(myit))\n"
   ]
  },
  {
   "cell_type": "markdown",
   "id": "efa2da55-3e7b-45c8-aa0f-b2d45105cc98",
   "metadata": {},
   "source": [
    "# Create an Iterator\n",
    "To create an object/class as an iterator you have to implement the methods __iter__() and __next__() to your object.\n",
    "As you have learned in the Python Classes/Objects chapter, all classes have a function called __init__(), which allows you to do some initializing when the object is being created.\n",
    "The __iter__() method acts similar, you can do operations (initializing etc.), but must always return the iterator object itself.\n",
    "The __next__() method also allows you to do operations, and must return the next item in the sequence."
   ]
  },
  {
   "cell_type": "code",
   "execution_count": 53,
   "id": "6e3d7526-ab1d-481e-bd3e-24481a557860",
   "metadata": {},
   "outputs": [
    {
     "name": "stdout",
     "output_type": "stream",
     "text": [
      "1\n",
      "2\n",
      "3\n",
      "4\n",
      "5\n"
     ]
    }
   ],
   "source": [
    "#Create an iterator that returns numbers, starting with 1, and each sequence will increase by one (returning 1,2,3,4,5 etc.):\n",
    "class MyNumbers:\n",
    "  def __iter__(self):\n",
    "    self.a = 1\n",
    "    return self\n",
    "\n",
    "  def __next__(self):\n",
    "    x = self.a\n",
    "    self.a += 1\n",
    "    return x\n",
    "\n",
    "myclass = MyNumbers()\n",
    "myiter = iter(myclass)\n",
    "\n",
    "print(next(myiter))\n",
    "print(next(myiter))\n",
    "print(next(myiter))\n",
    "print(next(myiter))\n",
    "print(next(myiter))\n"
   ]
  },
  {
   "cell_type": "code",
   "execution_count": 54,
   "id": "154a024c-4764-4a3c-9059-c3894f956131",
   "metadata": {},
   "outputs": [
    {
     "name": "stdout",
     "output_type": "stream",
     "text": [
      "1\n",
      "2\n",
      "3\n",
      "4\n",
      "5\n",
      "6\n",
      "7\n",
      "8\n",
      "9\n",
      "10\n",
      "11\n",
      "12\n",
      "13\n",
      "14\n",
      "15\n",
      "16\n",
      "17\n",
      "18\n",
      "19\n",
      "20\n"
     ]
    }
   ],
   "source": [
    "#Stop after 20 iterations:\n",
    "\n",
    "class MyNumbers:\n",
    "  def __iter__(self):\n",
    "    self.a = 1\n",
    "    return self\n",
    "\n",
    "  def __next__(self):\n",
    "    if self.a <= 20:\n",
    "      x = self.a\n",
    "      self.a += 1\n",
    "      return x\n",
    "    else:\n",
    "      raise StopIteration\n",
    "\n",
    "myclass = MyNumbers()\n",
    "myiter = iter(myclass)\n",
    "\n",
    "for x in myiter:\n",
    "  print(x)"
   ]
  },
  {
   "cell_type": "markdown",
   "id": "0059cd34-4870-4776-a1aa-b6a2fcd976b8",
   "metadata": {},
   "source": [
    "# File Handling\n",
    "The key function for working with files in Python is the open() function.\n",
    "The open() function takes two parameters; filename, and mode.\n",
    "There are four different methods (modes) for opening a file: <br>\n",
    "\"r\" - Read - Default value. Opens a file for reading, error if the file does not exist <br>\n",
    "\"a\" - Append - Opens a file for appending, creates the file if it does not exist <br>\n",
    "\"w\" - Write - Opens a file for writing, creates the file if it does not exist <br>\n",
    "\"x\" - Create - Creates the specified file, returns an error if the file exists <br>\n",
    "In addition you can specify if the file should be handled as binary or text mode <br>\n",
    "\"t\" - Text - Default value. Text mode <br>\n",
    "\"b\" - Binary - Binary mode (e.g. images) <br>"
   ]
  },
  {
   "cell_type": "code",
   "execution_count": 58,
   "id": "85c54267-5287-4387-ac20-69416ca4c655",
   "metadata": {},
   "outputs": [],
   "source": [
    "#To open a file for reading it is enough to specify the name of the file:\n",
    "f = open(\"demofile.txt\")"
   ]
  },
  {
   "cell_type": "code",
   "execution_count": 59,
   "id": "f0c48c67-3f0b-4c1b-a8a9-61e3d5af1318",
   "metadata": {},
   "outputs": [],
   "source": [
    "#The code above is the same as:\n",
    "f = open(\"demofile.txt\", \"rt\")"
   ]
  },
  {
   "cell_type": "code",
   "execution_count": 61,
   "id": "0dd12e1a-efae-4543-9bf2-60f93401df91",
   "metadata": {},
   "outputs": [
    {
     "name": "stdout",
     "output_type": "stream",
     "text": [
      "Hello World\n",
      "My name is Urmi Karmakar\n",
      "I am a CSE student\n",
      "123\n",
      "456\n",
      "16 June 2003, I was bron.\n",
      "I am so friendly \n",
      "I love my Family and Friends.\n"
     ]
    }
   ],
   "source": [
    "f = open(\"demofile.txt\", \"r\")\n",
    "print(f.read())"
   ]
  },
  {
   "cell_type": "code",
   "execution_count": 9,
   "id": "2fdc5e71-219b-44f8-a84e-44565884be6a",
   "metadata": {},
   "outputs": [
    {
     "name": "stdout",
     "output_type": "stream",
     "text": [
      "Hello World\n",
      "My name is Urmi Karmakar\n",
      "I am a CSE student\n",
      "123\n",
      "456\n",
      "16 June 2003, I was bron.\n",
      "I am so friendly \n",
      "I love my Family and Friends.\n"
     ]
    },
    {
     "name": "stderr",
     "output_type": "stream",
     "text": [
      "<>:2: SyntaxWarning: invalid escape sequence '\\d'\n",
      "<>:2: SyntaxWarning: invalid escape sequence '\\d'\n",
      "C:\\Users\\user\\AppData\\Local\\Temp\\ipykernel_12324\\1211261524.py:2: SyntaxWarning: invalid escape sequence '\\d'\n",
      "  f = open(\"E:\\\\skbit course\\demofile.txt\", \"r\")\n"
     ]
    }
   ],
   "source": [
    "#Open a file on a different location:\n",
    "f = open(\"E:\\\\skbit course\\demofile.txt\", \"r\")\n",
    "print(f.read())"
   ]
  },
  {
   "cell_type": "code",
   "execution_count": 62,
   "id": "6a5d2502-afa8-4f9d-8ef8-a91e819cce14",
   "metadata": {},
   "outputs": [
    {
     "name": "stdout",
     "output_type": "stream",
     "text": [
      "Hello World\n",
      "\n",
      "My name is Urmi Karmakar\n",
      "\n",
      "I am a CSE student\n",
      "\n",
      "123\n",
      "\n",
      "456\n",
      "\n",
      "16 June 2003, I was bron.\n",
      "\n",
      "I am so friendly \n",
      "\n",
      "I love my Family and Friends.\n"
     ]
    }
   ],
   "source": [
    "# a file named \"demofile\", will be opened with the reading mode.\n",
    "file = open(\"demofile.txt\", 'r')\n",
    "\n",
    "# This will print every line one by one in the file\n",
    "for each in file:\n",
    "    print (each)"
   ]
  },
  {
   "cell_type": "code",
   "execution_count": 12,
   "id": "c20a2915-e6f4-44d2-860d-cd7d757da6fe",
   "metadata": {},
   "outputs": [
    {
     "name": "stdout",
     "output_type": "stream",
     "text": [
      "Hello\n"
     ]
    }
   ],
   "source": [
    "f = open(\"demofile.txt\", \"r\")\n",
    "print(f.read(5))"
   ]
  },
  {
   "cell_type": "code",
   "execution_count": 14,
   "id": "449162e0-bfc7-4c7b-a848-990ab1618130",
   "metadata": {},
   "outputs": [
    {
     "name": "stdout",
     "output_type": "stream",
     "text": [
      "Hello World\n",
      "\n"
     ]
    }
   ],
   "source": [
    "# Read one line of the file:\n",
    "f = open(\"demofile.txt\", \"r\")\n",
    "print(f.readline())"
   ]
  },
  {
   "cell_type": "code",
   "execution_count": 15,
   "id": "8a28eac4-5010-4b85-ba1d-9cf2a7004011",
   "metadata": {},
   "outputs": [
    {
     "name": "stdout",
     "output_type": "stream",
     "text": [
      "Hello World\n",
      "\n",
      "My name is Urmi Karmakar\n",
      "\n"
     ]
    }
   ],
   "source": [
    "#Read two lines of the file:\n",
    "f = open(\"demofile.txt\", \"r\")\n",
    "print(f.readline())\n",
    "print(f.readline())"
   ]
  },
  {
   "cell_type": "code",
   "execution_count": 17,
   "id": "211ff88d-a094-4d62-81b0-1cee210f9840",
   "metadata": {},
   "outputs": [
    {
     "name": "stdout",
     "output_type": "stream",
     "text": [
      "Hello World\n",
      "\n"
     ]
    }
   ],
   "source": [
    "#Close the file when you are finish with it:\n",
    "f = open(\"demofile.txt\", \"r\")\n",
    "print(f.readline())\n",
    "f.close()"
   ]
  }
 ],
 "metadata": {
  "kernelspec": {
   "display_name": "Python 3 (ipykernel)",
   "language": "python",
   "name": "python3"
  },
  "language_info": {
   "codemirror_mode": {
    "name": "ipython",
    "version": 3
   },
   "file_extension": ".py",
   "mimetype": "text/x-python",
   "name": "python",
   "nbconvert_exporter": "python",
   "pygments_lexer": "ipython3",
   "version": "3.12.3"
  }
 },
 "nbformat": 4,
 "nbformat_minor": 5
}
